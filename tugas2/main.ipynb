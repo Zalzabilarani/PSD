{
 "cells": [
  {
   "cell_type": "markdown",
   "metadata": {},
   "source": [
    "# TUGAS KLASIFIKASI DATA PROYEK SAINS DATA - B"
   ]
  },
  {
   "cell_type": "markdown",
   "metadata": {},
   "source": [
    "Nama  : Zalzabila Rani    \n",
    "NIM   : 210411100082  \n",
    "Kelas : B  "
   ]
  },
  {
   "cell_type": "markdown",
   "metadata": {},
   "source": [
    "# --- BUSSINESS UNDERSTANDING ---"
   ]
  },
  {
   "cell_type": "markdown",
   "metadata": {},
   "source": [
    "Tujuan = melakukan klasifikasi kanker payudara sebagai upaya deteksi terhadap penyakit kanker payudara .\n",
    "\n",
    "Kanker payudara adalah jenis kanker yang dimulai dari sel-sel payudara. Kanker ini dapat terjadi pada wanita dan pria, meskipun kasusnya jauh lebih umum pada wanita. Sebagian besar kanker payudara bermula dari sel-sel kelenjar yang menghasilkan air susu (sel-sel lobulus) atau dari saluran susu (sel-sel duktus).\n",
    "\n",
    "Kumpulan data berisi catatan pasien dari uji coba tahun 1984-1989 yang dilakukan oleh Kelompok Studi Kanker Payudara Jerman (GBSG) terhadap 720 pasien dengan kanker payudara nodus positif; itu mempertahankan 686 pasien dengan data lengkap untuk variabel prognostik.\n",
    "Kumpulan data ini digunakan dalam makalah Royston dan Altman (2013). Data Rotterdam digunakan untuk membuat model yang sesuai, dan data GBSG untuk validasi model.\n",
    "\n",
    "Referensi data bisa diakses [disini](https://www.kaggle.com/datasets/utkarshx27/breast-cancer-dataset-used-royston-and-altman)."
   ]
  },
  {
   "cell_type": "markdown",
   "metadata": {},
   "source": [
    "# --- DATA UNDERSTANDING ---"
   ]
  },
  {
   "cell_type": "markdown",
   "metadata": {},
   "source": [
    "Adapun hal - hal yang perlu dilakukan untuk memahami data, yakni\n",
    "1. Mendeskripsikan setiap fitur pada data\n",
    "    * tipe data\n",
    "    * deskripsi data\n",
    "2. Mengidentifikasi missing values setiap fitur atau kolom\n",
    "3. Eksplorasi data (grafikan fitur)\n",
    "4. Mengidentifikasi outlier\n",
    "5. Mengidentifikasi jumlah data (proporsi data perkelas -untuk mengetahui balancing dataset atau keseimbangan data per kelas)"
   ]
  },
  {
   "cell_type": "markdown",
   "metadata": {},
   "source": [
    "## Load Dataset"
   ]
  },
  {
   "cell_type": "code",
   "execution_count": 32,
   "metadata": {},
   "outputs": [
    {
     "data": {
      "text/html": [
       "<div>\n",
       "<style scoped>\n",
       "    .dataframe tbody tr th:only-of-type {\n",
       "        vertical-align: middle;\n",
       "    }\n",
       "\n",
       "    .dataframe tbody tr th {\n",
       "        vertical-align: top;\n",
       "    }\n",
       "\n",
       "    .dataframe thead th {\n",
       "        text-align: right;\n",
       "    }\n",
       "</style>\n",
       "<table border=\"1\" class=\"dataframe\">\n",
       "  <thead>\n",
       "    <tr style=\"text-align: right;\">\n",
       "      <th></th>\n",
       "      <th>pid</th>\n",
       "      <th>age</th>\n",
       "      <th>meno</th>\n",
       "      <th>size</th>\n",
       "      <th>grade</th>\n",
       "      <th>nodes</th>\n",
       "      <th>pgr</th>\n",
       "      <th>er</th>\n",
       "      <th>hormon</th>\n",
       "      <th>rfstime</th>\n",
       "      <th>status</th>\n",
       "    </tr>\n",
       "  </thead>\n",
       "  <tbody>\n",
       "    <tr>\n",
       "      <th>0</th>\n",
       "      <td>132</td>\n",
       "      <td>49</td>\n",
       "      <td>0</td>\n",
       "      <td>18</td>\n",
       "      <td>2</td>\n",
       "      <td>2</td>\n",
       "      <td>0</td>\n",
       "      <td>0</td>\n",
       "      <td>0</td>\n",
       "      <td>1838</td>\n",
       "      <td>0</td>\n",
       "    </tr>\n",
       "    <tr>\n",
       "      <th>1</th>\n",
       "      <td>1575</td>\n",
       "      <td>55</td>\n",
       "      <td>1</td>\n",
       "      <td>20</td>\n",
       "      <td>3</td>\n",
       "      <td>16</td>\n",
       "      <td>0</td>\n",
       "      <td>0</td>\n",
       "      <td>0</td>\n",
       "      <td>403</td>\n",
       "      <td>1</td>\n",
       "    </tr>\n",
       "    <tr>\n",
       "      <th>2</th>\n",
       "      <td>1140</td>\n",
       "      <td>56</td>\n",
       "      <td>1</td>\n",
       "      <td>40</td>\n",
       "      <td>3</td>\n",
       "      <td>3</td>\n",
       "      <td>0</td>\n",
       "      <td>0</td>\n",
       "      <td>0</td>\n",
       "      <td>1603</td>\n",
       "      <td>0</td>\n",
       "    </tr>\n",
       "    <tr>\n",
       "      <th>3</th>\n",
       "      <td>769</td>\n",
       "      <td>45</td>\n",
       "      <td>0</td>\n",
       "      <td>25</td>\n",
       "      <td>3</td>\n",
       "      <td>1</td>\n",
       "      <td>0</td>\n",
       "      <td>4</td>\n",
       "      <td>0</td>\n",
       "      <td>177</td>\n",
       "      <td>0</td>\n",
       "    </tr>\n",
       "    <tr>\n",
       "      <th>4</th>\n",
       "      <td>130</td>\n",
       "      <td>65</td>\n",
       "      <td>1</td>\n",
       "      <td>30</td>\n",
       "      <td>2</td>\n",
       "      <td>5</td>\n",
       "      <td>0</td>\n",
       "      <td>36</td>\n",
       "      <td>1</td>\n",
       "      <td>1855</td>\n",
       "      <td>0</td>\n",
       "    </tr>\n",
       "  </tbody>\n",
       "</table>\n",
       "</div>"
      ],
      "text/plain": [
       "    pid  age  meno  size  grade  nodes  pgr  er  hormon  rfstime  status\n",
       "0   132   49     0    18      2      2    0   0       0     1838       0\n",
       "1  1575   55     1    20      3     16    0   0       0      403       1\n",
       "2  1140   56     1    40      3      3    0   0       0     1603       0\n",
       "3   769   45     0    25      3      1    0   4       0      177       0\n",
       "4   130   65     1    30      2      5    0  36       1     1855       0"
      ]
     },
     "execution_count": 32,
     "metadata": {},
     "output_type": "execute_result"
    }
   ],
   "source": [
    "import pandas as pd\n",
    "\n",
    "data = pd.read_csv('dataset.csv')\n",
    "data.head(5)"
   ]
  },
  {
   "cell_type": "code",
   "execution_count": 33,
   "metadata": {},
   "outputs": [
    {
     "name": "stdout",
     "output_type": "stream",
     "text": [
      "Banyaknya data :  686\n",
      "Banyaknya kolom :  11\n"
     ]
    }
   ],
   "source": [
    "# Rincian dataset (banyak data dan kolom)\n",
    "\n",
    "print(\"Banyaknya data : \", data.shape[0])\n",
    "print(\"Banyaknya kolom : \", data.shape[1])"
   ]
  },
  {
   "cell_type": "markdown",
   "metadata": {},
   "source": [
    "## Mendeskripsikan setiap fitur"
   ]
  },
  {
   "cell_type": "code",
   "execution_count": 35,
   "metadata": {},
   "outputs": [
    {
     "data": {
      "text/plain": [
       "Index(['pid', 'age', 'meno', 'size', 'grade', 'nodes', 'pgr', 'er', 'hormon',\n",
       "       'rfstime', 'status'],\n",
       "      dtype='object')"
      ]
     },
     "execution_count": 35,
     "metadata": {},
     "output_type": "execute_result"
    }
   ],
   "source": [
    "data.columns"
   ]
  },
  {
   "cell_type": "markdown",
   "metadata": {},
   "source": [
    "### Tipe data"
   ]
  },
  {
   "cell_type": "markdown",
   "metadata": {},
   "source": [
    "Berikut Macam - Macam Data yang ada pada data ini.   \n",
    "\n",
    "1. Tipe nominal   \n",
    "    > yakni pada fitur *'pid'*\n",
    "2. Tipe rentang\n",
    "    > yakni pada fitur *'age', 'size', 'pgr', 'er', 'rfstime'*\n",
    "3. Tipe ordinal\n",
    "    > yakni pada fitur *'meno', 'grade', 'nodes', 'hormon', 'status'*"
   ]
  },
  {
   "cell_type": "markdown",
   "metadata": {},
   "source": [
    "### Deskripsi data"
   ]
  },
  {
   "cell_type": "markdown",
   "metadata": {},
   "source": [
    "1. `pid (patient identifier)`\n",
    "   \n",
    "      Ini adalah pengenal unik untuk setiap pasien. Masing-masing pasien memiliki nomor identifikasi yang berbeda.\n",
    "\n",
    "2. `age (age, years)`\n",
    "\n",
    "      Ini mencatat usia pasien dalam tahun. Informasi ini membantu untuk memahami distribusi usia dalam sampel.\n",
    "\n",
    "3. `meno (menopausal status)`\n",
    "\n",
    "      Ini mencatat status menopause pasien. Nilai 0 mewakili premenopause, sedangkan nilai 1 mewakili postmenopause.\n",
    "\n",
    "4. `size (tumor size, mm)`\n",
    "\n",
    "      Ukuran tumor dalam milimeter. Informasi ini membantu untuk memahami seberapa besar tumor pada pasien.\n",
    "\n",
    "5. `grade (tumor grade)`\n",
    "\n",
    "      Ini mencatat tingkat keparahan tumor. Nilai biasanya dalam bentuk kategori ordinal, seperti 1, 2, atau 3.\n",
    "\n",
    "6. `nodes (number of positive lymph nodes)`\n",
    "\n",
    "      Ini mencatat jumlah nodus limfe positif pada pasien. Nodus limfe positif dapat memberikan informasi tentang penyebaran kanker (kelenjar getah bening).\n",
    "\n",
    "7. `pgr (progesterone receptors, fmol/l)`\n",
    "\n",
    "      Ini mencatat kadar reseptor progesteron dalam fentomol per liter. Informasi ini berkaitan dengan reseptor hormon tertentu pada sel kanker.\n",
    "\n",
    "8. `er (estrogen receptors, fmol/l)`\n",
    "\n",
    "      Ini mencatat kadar reseptor estrogen dalam fentomol per liter. Informasi ini juga berkaitan dengan reseptor hormon pada sel kanker.\n",
    "\n",
    "9. `Hormon (hormonal therapy)`\n",
    "\n",
    "      Ini mencatat apakah pasien menjalani terapi hormonal atau tidak. Nilai 0 menunjukkan tidak, sementara nilai 1 menunjukkan ya.\n",
    "\n",
    "10. `rfstime (recurrence free survival time; days to first of recurrence, death or last follow-up)`\n",
    "\n",
    "      Ini mencatat waktu bertahan hidup bebas kekambuhan. Ini dapat diukur dalam jumlah hari dari saat rekurensi pertama, kematian, atau kunjungan tindak lanjut terakhir.\n",
    "            \n",
    "11. `status (0= alive without recurrence, 1= recurrence or death)`\n",
    "\n",
    "      Ini mencatat status akhir pasien. Nilai 0 menunjukkan pasien masih hidup tanpa rekurensi, sedangkan nilai 1 menunjukkan rekurensi atau kematian.\n"
   ]
  },
  {
   "cell_type": "markdown",
   "metadata": {},
   "source": [
    "## Mengidentifikasi missing value"
   ]
  },
  {
   "cell_type": "markdown",
   "metadata": {},
   "source": [
    "### Missing value"
   ]
  },
  {
   "cell_type": "code",
   "execution_count": 36,
   "metadata": {},
   "outputs": [
    {
     "name": "stdout",
     "output_type": "stream",
     "text": [
      "Apakah ada nilai yang hilang dalam setiap kolom:\n",
      "pid        False\n",
      "age        False\n",
      "meno       False\n",
      "size       False\n",
      "grade      False\n",
      "nodes      False\n",
      "pgr        False\n",
      "er         False\n",
      "hormon     False\n",
      "rfstime    False\n",
      "status     False\n",
      "dtype: bool\n"
     ]
    }
   ],
   "source": [
    "# Menghitung apakah ada nilai yang hilang dalam setiap kolom\n",
    "missing_values = data.isna().any()\n",
    "\n",
    "# Menampilkan hasil\n",
    "print(\"Apakah ada nilai yang hilang dalam setiap kolom:\")\n",
    "print(missing_values)"
   ]
  },
  {
   "cell_type": "markdown",
   "metadata": {},
   "source": [
    "Noted : tidak ada *missing value* pada data"
   ]
  },
  {
   "cell_type": "markdown",
   "metadata": {},
   "source": [
    "### Duplikat data"
   ]
  },
  {
   "cell_type": "code",
   "execution_count": 37,
   "metadata": {},
   "outputs": [
    {
     "name": "stdout",
     "output_type": "stream",
     "text": [
      "Jumlah data yang duplikat: 0\n"
     ]
    }
   ],
   "source": [
    "jumlah_duplikat = data.duplicated().sum()\n",
    "\n",
    "# Menampilkan jumlah data yang duplikat\n",
    "print(\"Jumlah data yang duplikat:\", jumlah_duplikat)"
   ]
  },
  {
   "cell_type": "markdown",
   "metadata": {},
   "source": [
    "Noted : terdapat beberapa baris data yang sama, sehingga data tersebut harus dihilangkan untuk menghindari adanya data yang redundan"
   ]
  },
  {
   "cell_type": "markdown",
   "metadata": {},
   "source": [
    "## Mengidentifikasi Outlier"
   ]
  },
  {
   "cell_type": "code",
   "execution_count": 38,
   "metadata": {},
   "outputs": [
    {
     "name": "stdout",
     "output_type": "stream",
     "text": [
      "Total outlier :  49\n"
     ]
    }
   ],
   "source": [
    "import pandas as pd\n",
    "import numpy as np\n",
    "from scipy import stats\n",
    "\n",
    "# Fungsi untuk mendeteksi outlier menggunakan z-score\n",
    "def detect_outliers(data, threshold=3):\n",
    "    z_scores = np.abs(stats.zscore(data))\n",
    "    row_outliers, col_outliers = np.where(z_scores > threshold)\n",
    "    return list(zip(row_outliers, col_outliers))\n",
    "\n",
    "# Mendeteksi outlier\n",
    "outliers = detect_outliers(data)\n",
    "print(f\"Total outlier : \", len(outliers))"
   ]
  },
  {
   "cell_type": "markdown",
   "metadata": {},
   "source": [
    "Noted : terdapat banyak data yang memiliki outlier, sehingga data tersebut harus dihilangkan"
   ]
  },
  {
   "cell_type": "markdown",
   "metadata": {},
   "source": [
    "## Mengidentifikasi Jumlah Data"
   ]
  },
  {
   "cell_type": "code",
   "execution_count": 39,
   "metadata": {},
   "outputs": [
    {
     "name": "stdout",
     "output_type": "stream",
     "text": [
      "Jumlah data pada tiap target :\n",
      "0    387\n",
      "1    299\n",
      "Name: status, dtype: int64\n"
     ]
    }
   ],
   "source": [
    "# Menghitung jumlah target pada data tanpa outlier\n",
    "target_no_outliers = data['status'].value_counts()\n",
    "\n",
    "print(\"Jumlah data pada tiap target :\")\n",
    "print(target_no_outliers)"
   ]
  },
  {
   "cell_type": "markdown",
   "metadata": {},
   "source": [
    "## Eksplorasi Data"
   ]
  },
  {
   "cell_type": "markdown",
   "metadata": {},
   "source": [
    "### Fitur beserta presentase kepentingannya"
   ]
  },
  {
   "cell_type": "code",
   "execution_count": 40,
   "metadata": {},
   "outputs": [
    {
     "name": "stdout",
     "output_type": "stream",
     "text": [
      "Fitur 0: pid, Skor: 0.04280353534468739\n",
      "Fitur 1: age, Skor: 0.0\n",
      "Fitur 2: meno, Skor: 0.0\n",
      "Fitur 3: size, Skor: 0.01161645142972656\n",
      "Fitur 4: grade, Skor: 0.0005664614103564336\n",
      "Fitur 5: nodes, Skor: 0.016272698748095227\n",
      "Fitur 6: pgr, Skor: 0.02638876341887686\n",
      "Fitur 7: er, Skor: 0.0\n",
      "Fitur 8: hormon, Skor: 0.0\n",
      "Fitur 9: rfstime, Skor: 0.17124806143528248\n"
     ]
    }
   ],
   "source": [
    "from sklearn.feature_selection import SelectKBest, mutual_info_classif\n",
    "from sklearn.model_selection import train_test_split\n",
    "\n",
    "# memisahkan kolom fitur dan target\n",
    "fitur = data.drop(columns=['status'], axis =1)\n",
    "target = data['status']\n",
    "\n",
    "# Buat objek SelectKBest dengan mutual_info_classif sebagai fungsi skor\n",
    "k_best = SelectKBest(score_func=mutual_info_classif, k='all')  # 'all' berarti akan mempertahankan semua fitur\n",
    "\n",
    "# Hitung skor fitur\n",
    "k_best.fit(fitur, target)\n",
    "scores = k_best.scores_\n",
    "\n",
    "# Dapatkan nama fitur dari kolom data Anda\n",
    "fitur_names = fitur.columns\n",
    "\n",
    "# Tampilkan skor fitur berserta namanya\n",
    "for i, (score, fitur_name) in enumerate(zip(scores, fitur_names)):\n",
    "    print(f\"Fitur {i}: {fitur_name}, Skor: {score}\")"
   ]
  },
  {
   "cell_type": "markdown",
   "metadata": {},
   "source": [
    "### Grafik fitur dan tingkat pentingnya"
   ]
  },
  {
   "cell_type": "code",
   "execution_count": 41,
   "metadata": {},
   "outputs": [
    {
     "data": {
      "image/png": "[encoded data removed]",
      "text/plain": [
       "<Figure size 1800x600 with 1 Axes>"
      ]
     },
     "metadata": {},
     "output_type": "display_data"
    }
   ],
   "source": [
    "import matplotlib.pyplot as plt\n",
    "\n",
    "# Tampilkan skor fitur dalam grafik\n",
    "plt.figure(figsize=(18, 6))\n",
    "plt.bar(fitur_names, scores)\n",
    "plt.xlabel(\"Nama Fitur\")\n",
    "plt.ylabel(\"Skor Fitur\")\n",
    "plt.title(\"Skor Fitur SelectKBest\")\n",
    "plt.xticks(rotation=90)\n",
    "plt.show()"
   ]
  },
  {
   "cell_type": "markdown",
   "metadata": {},
   "source": [
    "**Kesimpulan :**\n",
    "\n",
    "1. Data tidak memiliki _missing values_\n",
    "2. Tidak ada data yang sama\n",
    "3. Terdapat 10% outlier dari data sehingga tidak perlu dihapus\n",
    "4. Perbandingan proporsi data tiap target sangat jauh sehingga untuk menghemat waktu komputasi output antar target akan diseimbangkan menggunakan metode UnderSampling. Undersampling adalah teknik untuk mengurangi jumlah data pada kelas mayoritas sehingga jumlahnya setara dengan kelas minoritas.\n",
    "5. Hasil skoring fitur masih menggunakan data kotor sehingga perlu difilter kembali "
   ]
  },
  {
   "cell_type": "markdown",
   "metadata": {},
   "source": [
    "# --- DATA PREPROCESSING ---"
   ]
  },
  {
   "cell_type": "markdown",
   "metadata": {},
   "source": [
    "Setelah memahami data, akan dilakukan tahap preprocessing untuk menangani masalah pada data yang sudah didefinisikan pada data understanding, yakni.\n",
    "1. Menghapus Outlier\n",
    "2. Menyeimbangkan proporsi data tiap target\n",
    "\n",
    "Setelah data siap, akan dilakukan :\n",
    "1. Skoring tiap fitur kembali\n",
    "2. Normalisasi Data\n",
    "3. Eksplorasi Model"
   ]
  },
  {
   "cell_type": "markdown",
   "metadata": {},
   "source": [
    "## Load Dataset"
   ]
  },
  {
   "cell_type": "code",
   "execution_count": 45,
   "metadata": {},
   "outputs": [
    {
     "data": {
      "text/html": [
       "<div>\n",
       "<style scoped>\n",
       "    .dataframe tbody tr th:only-of-type {\n",
       "        vertical-align: middle;\n",
       "    }\n",
       "\n",
       "    .dataframe tbody tr th {\n",
       "        vertical-align: top;\n",
       "    }\n",
       "\n",
       "    .dataframe thead th {\n",
       "        text-align: right;\n",
       "    }\n",
       "</style>\n",
       "<table border=\"1\" class=\"dataframe\">\n",
       "  <thead>\n",
       "    <tr style=\"text-align: right;\">\n",
       "      <th></th>\n",
       "      <th>pid</th>\n",
       "      <th>age</th>\n",
       "      <th>meno</th>\n",
       "      <th>size</th>\n",
       "      <th>grade</th>\n",
       "      <th>nodes</th>\n",
       "      <th>pgr</th>\n",
       "      <th>er</th>\n",
       "      <th>hormon</th>\n",
       "      <th>rfstime</th>\n",
       "      <th>status</th>\n",
       "    </tr>\n",
       "  </thead>\n",
       "  <tbody>\n",
       "    <tr>\n",
       "      <th>0</th>\n",
       "      <td>132</td>\n",
       "      <td>49</td>\n",
       "      <td>0</td>\n",
       "      <td>18</td>\n",
       "      <td>2</td>\n",
       "      <td>2</td>\n",
       "      <td>0</td>\n",
       "      <td>0</td>\n",
       "      <td>0</td>\n",
       "      <td>1838</td>\n",
       "      <td>0</td>\n",
       "    </tr>\n",
       "    <tr>\n",
       "      <th>1</th>\n",
       "      <td>1575</td>\n",
       "      <td>55</td>\n",
       "      <td>1</td>\n",
       "      <td>20</td>\n",
       "      <td>3</td>\n",
       "      <td>16</td>\n",
       "      <td>0</td>\n",
       "      <td>0</td>\n",
       "      <td>0</td>\n",
       "      <td>403</td>\n",
       "      <td>1</td>\n",
       "    </tr>\n",
       "    <tr>\n",
       "      <th>2</th>\n",
       "      <td>1140</td>\n",
       "      <td>56</td>\n",
       "      <td>1</td>\n",
       "      <td>40</td>\n",
       "      <td>3</td>\n",
       "      <td>3</td>\n",
       "      <td>0</td>\n",
       "      <td>0</td>\n",
       "      <td>0</td>\n",
       "      <td>1603</td>\n",
       "      <td>0</td>\n",
       "    </tr>\n",
       "    <tr>\n",
       "      <th>3</th>\n",
       "      <td>769</td>\n",
       "      <td>45</td>\n",
       "      <td>0</td>\n",
       "      <td>25</td>\n",
       "      <td>3</td>\n",
       "      <td>1</td>\n",
       "      <td>0</td>\n",
       "      <td>4</td>\n",
       "      <td>0</td>\n",
       "      <td>177</td>\n",
       "      <td>0</td>\n",
       "    </tr>\n",
       "    <tr>\n",
       "      <th>4</th>\n",
       "      <td>130</td>\n",
       "      <td>65</td>\n",
       "      <td>1</td>\n",
       "      <td>30</td>\n",
       "      <td>2</td>\n",
       "      <td>5</td>\n",
       "      <td>0</td>\n",
       "      <td>36</td>\n",
       "      <td>1</td>\n",
       "      <td>1855</td>\n",
       "      <td>0</td>\n",
       "    </tr>\n",
       "  </tbody>\n",
       "</table>\n",
       "</div>"
      ],
      "text/plain": [
       "    pid  age  meno  size  grade  nodes  pgr  er  hormon  rfstime  status\n",
       "0   132   49     0    18      2      2    0   0       0     1838       0\n",
       "1  1575   55     1    20      3     16    0   0       0      403       1\n",
       "2  1140   56     1    40      3      3    0   0       0     1603       0\n",
       "3   769   45     0    25      3      1    0   4       0      177       0\n",
       "4   130   65     1    30      2      5    0  36       1     1855       0"
      ]
     },
     "execution_count": 45,
     "metadata": {},
     "output_type": "execute_result"
    }
   ],
   "source": [
    "import pandas as pd\n",
    "\n",
    "data = pd.read_csv('dataset.csv')\n",
    "data.head(5)"
   ]
  },
  {
   "cell_type": "code",
   "execution_count": 46,
   "metadata": {},
   "outputs": [
    {
     "name": "stdout",
     "output_type": "stream",
     "text": [
      "Banyaknya data :  686\n",
      "Banyaknya kolom :  11\n"
     ]
    }
   ],
   "source": [
    "# Rincian dataset (banyak data dan kolom)\n",
    "\n",
    "print(\"Banyaknya data : \", data.shape[0])\n",
    "print(\"Banyaknya kolom : \", data.shape[1])"
   ]
  },
  {
   "cell_type": "markdown",
   "metadata": {},
   "source": [
    "## Menghapus Outlier"
   ]
  },
  {
   "cell_type": "code",
   "execution_count": 47,
   "metadata": {},
   "outputs": [
    {
     "name": "stdout",
     "output_type": "stream",
     "text": [
      "Jumlah baris tanpa outlier :  643\n"
     ]
    }
   ],
   "source": [
    "data_tanpa_outlier = data.copy()\n",
    "for row, col in outliers:\n",
    "    if row in data_tanpa_outlier.index:\n",
    "        data_tanpa_outlier = data_tanpa_outlier.drop(index=row)\n",
    "\n",
    "print(\"Jumlah baris tanpa outlier : \", len(data_tanpa_outlier))"
   ]
  },
  {
   "cell_type": "markdown",
   "metadata": {},
   "source": [
    "## Menyeimbangkan Data Tiap Target"
   ]
  },
  {
   "cell_type": "code",
   "execution_count": 50,
   "metadata": {},
   "outputs": [
    {
     "data": {
      "text/plain": [
       "0    387\n",
       "1    299\n",
       "Name: status, dtype: int64"
      ]
     },
     "execution_count": 50,
     "metadata": {},
     "output_type": "execute_result"
    }
   ],
   "source": [
    "fitur = data.drop(columns=['status'])\n",
    "target = data['status']\n",
    "\n",
    "target.value_counts()"
   ]
  },
  {
   "cell_type": "markdown",
   "metadata": {},
   "source": [
    "Menyeimbangkan data target sesuai jumlahnya menggunakan jumlah pada target yang paling banyak"
   ]
  },
  {
   "cell_type": "code",
   "execution_count": 51,
   "metadata": {},
   "outputs": [
    {
     "name": "stdout",
     "output_type": "stream",
     "text": [
      "Jumlah sampel setelah diseimbangkan : \n",
      "0    387\n",
      "1    387\n",
      "Name: status, dtype: int64\n"
     ]
    }
   ],
   "source": [
    "from imblearn.over_sampling import SMOTE\n",
    "\n",
    "smote = SMOTE()\n",
    "fitur_seimbang, target_seimbang = smote.fit_resample(fitur, target)\n",
    "\n",
    "print(\"Jumlah sampel setelah diseimbangkan : \")\n",
    "print(target_seimbang.value_counts())"
   ]
  },
  {
   "cell_type": "markdown",
   "metadata": {},
   "source": [
    "simpan data yang telah seimbang di dalam database"
   ]
  },
  {
   "cell_type": "code",
   "execution_count": 52,
   "metadata": {},
   "outputs": [],
   "source": [
    "import pandas as pd\n",
    "\n",
    "# Membuat DataFrame dari fitur dan target yang telah seimbang\n",
    "data_seimbang = pd.concat([fitur_seimbang, target_seimbang], axis=1)\n",
    "\n",
    "# Menyimpan DataFrame ke dalam file CSV\n",
    "data_seimbang.to_csv('data_seimbang.csv', index=False)"
   ]
  },
  {
   "cell_type": "code",
   "execution_count": 53,
   "metadata": {},
   "outputs": [],
   "source": [
    "fitur = data_seimbang.drop(columns=['status'])\n",
    "target = data_seimbang['status']"
   ]
  },
  {
   "cell_type": "markdown",
   "metadata": {},
   "source": [
    "## Eksplorasi Data (Skoring Fitur)"
   ]
  },
  {
   "cell_type": "code",
   "execution_count": 54,
   "metadata": {},
   "outputs": [
    {
     "name": "stdout",
     "output_type": "stream",
     "text": [
      "Fitur 0: pid, Skor: 0.04982519423170029\n",
      "Fitur 1: age, Skor: 0.015112047999696232\n",
      "Fitur 2: meno, Skor: 0.0\n",
      "Fitur 3: size, Skor: 0.011701878977351754\n",
      "Fitur 4: grade, Skor: 0.007812166705106982\n",
      "Fitur 5: nodes, Skor: 0.008037212146390305\n",
      "Fitur 6: pgr, Skor: 0.021946395350669334\n",
      "Fitur 7: er, Skor: 0.0\n",
      "Fitur 8: hormon, Skor: 0.04661186563152464\n",
      "Fitur 9: rfstime, Skor: 0.19030840199153287\n"
     ]
    }
   ],
   "source": [
    "from sklearn.feature_selection import SelectKBest, mutual_info_classif\n",
    "\n",
    "# Buat objek SelectKBest dengan mutual_info_classif sebagai fungsi skor\n",
    "k_best = SelectKBest(score_func=mutual_info_classif, k='all')  # 'all' berarti akan mempertahankan semua fitur\n",
    "\n",
    "# Hitung skor fitur\n",
    "k_best.fit(fitur, target)\n",
    "scores = k_best.scores_\n",
    "\n",
    "# Dapatkan nama fitur dari kolom data Anda\n",
    "fitur_names = fitur.columns\n",
    "\n",
    "# Tampilkan skor fitur berserta namanya\n",
    "for i, (score, fitur_name) in enumerate(zip(scores, fitur_names)):\n",
    "    print(f\"Fitur {i}: {fitur_name}, Skor: {score}\")"
   ]
  },
  {
   "cell_type": "code",
   "execution_count": 55,
   "metadata": {},
   "outputs": [
    {
     "data": {
      "image/png": "[encoded data removed]",
      "text/plain": [
       "<Figure size 1800x600 with 1 Axes>"
      ]
     },
     "metadata": {},
     "output_type": "display_data"
    }
   ],
   "source": [
    "import matplotlib.pyplot as plt\n",
    "\n",
    "# Tampilkan skor fitur dalam grafik\n",
    "plt.figure(figsize=(18, 6))\n",
    "plt.bar(fitur_names, scores)\n",
    "plt.xlabel(\"Nama Fitur\")\n",
    "plt.ylabel(\"Skor Fitur\")\n",
    "plt.title(\"Skor Fitur SelectKBest\")\n",
    "plt.xticks(rotation=90)\n",
    "plt.show()"
   ]
  },
  {
   "cell_type": "markdown",
   "metadata": {},
   "source": [
    "## Split Data"
   ]
  },
  {
   "cell_type": "code",
   "execution_count": 56,
   "metadata": {},
   "outputs": [],
   "source": [
    "from sklearn.model_selection import train_test_split\n",
    "\n",
    "# melakukan pembagian dataset, dataset dibagi menjadi 80% data training dan 20% data testing\n",
    "fitur_train, fitur_test, target_train, target_test = train_test_split(fitur, target, test_size = 0.2, random_state=42)"
   ]
  },
  {
   "cell_type": "markdown",
   "metadata": {},
   "source": [
    "## Normalisasi Data"
   ]
  },
  {
   "cell_type": "markdown",
   "metadata": {},
   "source": [
    "### Menggunakan Standarscaler (zscore)"
   ]
  },
  {
   "cell_type": "code",
   "execution_count": 57,
   "metadata": {},
   "outputs": [],
   "source": [
    "import pickle\n",
    "from sklearn.preprocessing import StandardScaler\n",
    "\n",
    "# menentukan lokasi file pickle akan disimpan\n",
    "path = 'zscore_scaler.pkl'\n",
    "\n",
    "# membuat dan melatih objek StandardScaler\n",
    "zscore_scaler = StandardScaler()\n",
    "zscore_scaler.fit(fitur_train)\n",
    "\n",
    "# menyimpan model ke dalam file pickle\n",
    "with open(path, 'wb') as file:\n",
    "    pickle.dump(zscore_scaler, file)\n",
    "\n",
    "# memanggil kembali model normalisasi zscore dari file pickle\n",
    "with open(path, 'rb') as file:\n",
    "    zscore_scaler = pickle.load(file)\n",
    "\n",
    "# menerapkan normalisasi zscore pada data training\n",
    "zscore_training = zscore_scaler.transform(fitur_train)\n",
    "\n",
    "# menerapkan normalisasi zscore pada data testing\n",
    "zscore_testing = zscore_scaler.transform(fitur_test)"
   ]
  },
  {
   "cell_type": "markdown",
   "metadata": {},
   "source": [
    "### Menggunakan Minmaxscaler"
   ]
  },
  {
   "cell_type": "code",
   "execution_count": 58,
   "metadata": {},
   "outputs": [],
   "source": [
    "import pickle\n",
    "from sklearn.preprocessing import MinMaxScaler\n",
    "\n",
    "# menentukan lokasi file pickle akan disimpan\n",
    "path = 'minmaxscaler.pkl'\n",
    "\n",
    "# membuat dan melatih objek MinMaxScaler\n",
    "minmaxscaler = MinMaxScaler()\n",
    "minmaxscaler.fit(fitur_train)\n",
    "\n",
    "# menyimpan model ke dalam file pickle\n",
    "with open(path, 'wb') as file:\n",
    "    pickle.dump(minmaxscaler, file)\n",
    "\n",
    "# memanggil kembali model normalisasi minmaxscaler dari file pickle\n",
    "with open(path, 'rb') as file:\n",
    "    minmaxscaler = pickle.load(file)\n",
    "\n",
    "# menerapkan normalisasi zscore pada data training\n",
    "minmaxtraining = minmaxscaler.transform(fitur_train)\n",
    "\n",
    "# menerapkan normalisasi zscore pada data testing\n",
    "minmaxtesting = minmaxscaler.transform(fitur_test)"
   ]
  },
  {
   "cell_type": "markdown",
   "metadata": {},
   "source": [
    "## Eksplorasi Model"
   ]
  },
  {
   "cell_type": "markdown",
   "metadata": {},
   "source": [
    "### Menggunakan Naive Bayes"
   ]
  },
  {
   "cell_type": "code",
   "execution_count": 59,
   "metadata": {},
   "outputs": [
    {
     "name": "stdout",
     "output_type": "stream",
     "text": [
      "Dengan Normalisasi Zscore:\n",
      "Fitur terbaik yang bisa digunakan 5 dengan akurasi :  0.7483870967741936\n",
      "Dengan Normalisasi Minmax:\n",
      "Fitur terbaik yang bisa digunakan 4 dengan akurasi :  0.7483870967741936\n",
      "Fitur terbaik yang digunakan (dengan normalisasi Zscore):\n",
      "['pid', 'grade', 'nodes', 'hormon', 'rfstime']\n",
      "Fitur terbaik yang digunakan (dengan normalisasi Minmax):\n",
      "['pid', 'nodes', 'pgr', 'rfstime']\n"
     ]
    }
   ],
   "source": [
    "from sklearn.feature_selection import SelectKBest, mutual_info_classif\n",
    "from sklearn.naive_bayes import GaussianNB\n",
    "from sklearn.metrics import accuracy_score\n",
    "\n",
    "best_accuracy_nb_zscore = 0\n",
    "best_k_zscore = 0\n",
    "best_accuracy_nb_minmax = 0\n",
    "best_k_minmax = 0\n",
    "\n",
    "for k in range(1, fitur_train.shape[1] + 1):\n",
    "    # Buat objek SelectKBest dengan mutual_info_classif sebagai fungsi skor\n",
    "    k_best = SelectKBest(score_func=mutual_info_classif, k=k)\n",
    "\n",
    "    # Fiturkan objek SelectKBest ke data training dan testing untuk kedua normalisasi (zscore dan minmax)\n",
    "    zscore_training_terbaik = k_best.fit_transform(zscore_training, target_train)\n",
    "    zscore_testing_terbaik = k_best.transform(zscore_testing)\n",
    "    minmaxtraining_terbaik = k_best.fit_transform(minmaxtraining, target_train)\n",
    "    minmaxtesting_terbaik = k_best.transform(minmaxtesting)\n",
    "\n",
    "    # Buat dan latih model dengan normalisasi zscore\n",
    "    model_zscore = GaussianNB()\n",
    "    model_zscore.fit(zscore_training_terbaik, target_train)\n",
    "\n",
    "    # Lakukan prediksi pada data uji dengan normalisasi zscore\n",
    "    y_pred_nb_zscore = model_zscore.predict(zscore_testing_terbaik)\n",
    "\n",
    "    # Hitung akurasi dengan normalisasi zscore\n",
    "    accuracy_nb_zscore = accuracy_score(target_test, y_pred_nb_zscore)\n",
    "\n",
    "    # Buat dan latih model dengan normalisasi minmax\n",
    "    model_minmax = GaussianNB()\n",
    "    model_minmax.fit(minmaxtraining_terbaik, target_train)\n",
    "\n",
    "    # Lakukan prediksi pada data uji dengan normalisasi minmax\n",
    "    y_pred_nb_minmax = model_minmax.predict(minmaxtesting_terbaik)\n",
    "\n",
    "    # Hitung akurasi dengan normalisasi minmax\n",
    "    accuracy_nb_minmax = accuracy_score(target_test, y_pred_nb_minmax)\n",
    "\n",
    "    # Memeriksa apakah akurasi dengan normalisasi zscore lebih baik dari yang sebelumnya\n",
    "    if accuracy_nb_zscore > best_accuracy_nb_zscore:\n",
    "        best_accuracy_nb_zscore = accuracy_nb_zscore\n",
    "        best_k_zscore = k\n",
    "\n",
    "    # Memeriksa apakah akurasi dengan normalisasi minmax lebih baik dari yang sebelumnya\n",
    "    if accuracy_nb_minmax > best_accuracy_nb_minmax:\n",
    "        best_accuracy_nb_minmax = accuracy_nb_minmax\n",
    "        best_k_minmax = k\n",
    "\n",
    "print(\"Dengan Normalisasi Zscore:\")\n",
    "print(\"Fitur terbaik yang bisa digunakan\", best_k_zscore, \"dengan akurasi : \", best_accuracy_nb_zscore)\n",
    "\n",
    "print(\"Dengan Normalisasi Minmax:\")\n",
    "print(\"Fitur terbaik yang bisa digunakan\", best_k_minmax, \"dengan akurasi : \", best_accuracy_nb_minmax)\n",
    "\n",
    "# Ambil indeks fitur terbaik dari SelectKBest\n",
    "best_feature_indices_zscore = SelectKBest(score_func=mutual_info_classif, k=best_k_zscore).fit(zscore_training, target_train).get_support(indices=True)\n",
    "best_feature_indices_minmax = SelectKBest(score_func=mutual_info_classif, k=best_k_minmax).fit(minmaxtraining, target_train).get_support(indices=True)\n",
    "\n",
    "# Dapatkan nama fitur terbaik dari indeksnya\n",
    "best_features_zscore = [fitur.columns[i] for i in best_feature_indices_zscore]\n",
    "best_features_minmax = [fitur.columns[i] for i in best_feature_indices_minmax]\n",
    "\n",
    "\n",
    "print(\"Fitur terbaik yang digunakan (dengan normalisasi Zscore):\")\n",
    "print(best_features_zscore)\n",
    "\n",
    "print(\"Fitur terbaik yang digunakan (dengan normalisasi Minmax):\")\n",
    "print(best_features_minmax)"
   ]
  },
  {
   "cell_type": "markdown",
   "metadata": {},
   "source": [
    "### Menggunakan Random Forest"
   ]
  },
  {
   "cell_type": "code",
   "execution_count": 60,
   "metadata": {},
   "outputs": [
    {
     "name": "stdout",
     "output_type": "stream",
     "text": [
      "Dengan Normalisasi Zscore:\n",
      "Fitur terbaik yang bisa digunakan 8 dengan akurasi :  0.832258064516129\n",
      "Dengan Normalisasi Minmax:\n",
      "Fitur terbaik yang bisa digunakan 3 dengan akurasi :  0.8193548387096774\n",
      "Fitur terbaik yang digunakan (dengan normalisasi Zscore):\n",
      "['pid', 'size', 'grade', 'nodes', 'pgr', 'er', 'hormon', 'rfstime']\n",
      "Fitur terbaik yang digunakan (dengan normalisasi Minmax):\n",
      "['pid', 'nodes', 'rfstime']\n"
     ]
    }
   ],
   "source": [
    "from sklearn.feature_selection import SelectKBest, mutual_info_classif\n",
    "from sklearn.ensemble import RandomForestClassifier\n",
    "from sklearn.metrics import accuracy_score\n",
    "\n",
    "best_accuracy_rf_zscore = 0\n",
    "best_k_zscore = 0\n",
    "best_accuracy_rf_minmax = 0\n",
    "best_k_minmax = 0\n",
    "\n",
    "for k in range(1, fitur_train.shape[1] + 1):\n",
    "    # Buat objek SelectKBest dengan mutual_info_classif sebagai fungsi skor\n",
    "    k_best = SelectKBest(score_func=mutual_info_classif, k=k)\n",
    "\n",
    "    # Fiturkan objek SelectKBest ke data training dan testing untuk kedua normalisasi (zscore dan minmax)\n",
    "    zscore_training_terbaik = k_best.fit_transform(zscore_training, target_train)\n",
    "    zscore_testing_terbaik = k_best.transform(zscore_testing)\n",
    "    minmaxtraining_terbaik = k_best.fit_transform(minmaxtraining, target_train)\n",
    "    minmaxtesting_terbaik = k_best.transform(minmaxtesting)\n",
    "\n",
    "    # Buat dan latih model dengan normalisasi zscore\n",
    "    model_zscore = RandomForestClassifier(random_state=42)\n",
    "    model_zscore.fit(zscore_training_terbaik, target_train)\n",
    "\n",
    "    # Lakukan prediksi pada data uji dengan normalisasi zscore\n",
    "    y_pred_rf_zscore = model_zscore.predict(zscore_testing_terbaik)\n",
    "\n",
    "    # Hitung akurasi dengan normalisasi zscore\n",
    "    accuracy_rf_zscore = accuracy_score(target_test, y_pred_rf_zscore)\n",
    "    # print(k, \"fitur menghasilkan akurasi : \", accuracy_rf_zscore)\n",
    "\n",
    "    # Buat dan latih model dengan normalisasi minmax\n",
    "    model_minmax = RandomForestClassifier(random_state=42)\n",
    "    model_minmax.fit(minmaxtraining_terbaik, target_train)\n",
    "\n",
    "    # Lakukan prediksi pada data uji dengan normalisasi minmax\n",
    "    y_pred_rf_minmax = model_minmax.predict(minmaxtesting_terbaik)\n",
    "\n",
    "    # Hitung akurasi dengan normalisasi minmax\n",
    "    accuracy_rf_minmax = accuracy_score(target_test, y_pred_rf_minmax)\n",
    "    # print(k, \"fitur menghasilkan akurasi : \", accuracy_rf_minmax)\n",
    "\n",
    "    # Memeriksa apakah akurasi dengan normalisasi zscore lebih baik dari yang sebelumnya\n",
    "    if accuracy_rf_zscore > best_accuracy_rf_zscore:\n",
    "        best_accuracy_rf_zscore = accuracy_rf_zscore\n",
    "        best_k_zscore = k\n",
    "\n",
    "    # Memeriksa apakah akurasi dengan normalisasi minmax lebih baik dari yang sebelumnya\n",
    "    if accuracy_rf_minmax > best_accuracy_rf_minmax:\n",
    "        best_accuracy_rf_minmax = accuracy_rf_minmax\n",
    "        best_k_minmax = k\n",
    "\n",
    "print(\"Dengan Normalisasi Zscore:\")\n",
    "print(\"Fitur terbaik yang bisa digunakan\", best_k_zscore, \"dengan akurasi : \", best_accuracy_rf_zscore)\n",
    "\n",
    "print(\"Dengan Normalisasi Minmax:\")\n",
    "print(\"Fitur terbaik yang bisa digunakan\", best_k_minmax, \"dengan akurasi : \", best_accuracy_rf_minmax)\n",
    "\n",
    "# Ambil indeks fitur terbaik dari SelectKBest\n",
    "best_feature_indices_zscore = SelectKBest(score_func=mutual_info_classif, k=best_k_zscore).fit(zscore_training, target_train).get_support(indices=True)\n",
    "best_feature_indices_minmax = SelectKBest(score_func=mutual_info_classif, k=best_k_minmax).fit(minmaxtraining, target_train).get_support(indices=True)\n",
    "\n",
    "# Dapatkan nama fitur terbaik dari indeksnya\n",
    "best_features_zscore = [fitur.columns[i] for i in best_feature_indices_zscore]\n",
    "best_features_minmax = [fitur.columns[i] for i in best_feature_indices_minmax]\n",
    "\n",
    "\n",
    "print(\"Fitur terbaik yang digunakan (dengan normalisasi Zscore):\")\n",
    "print(best_features_zscore)\n",
    "\n",
    "print(\"Fitur terbaik yang digunakan (dengan normalisasi Minmax):\")\n",
    "print(best_features_minmax)"
   ]
  },
  {
   "cell_type": "markdown",
   "metadata": {},
   "source": [
    "### Menggunakan Decision Tree"
   ]
  },
  {
   "cell_type": "code",
   "execution_count": 61,
   "metadata": {},
   "outputs": [
    {
     "name": "stdout",
     "output_type": "stream",
     "text": [
      "Dengan Normalisasi Zscore:\n",
      "Fitur terbaik yang bisa digunakan 3 dengan akurasi :  0.8064516129032258\n",
      "Dengan Normalisasi Minmax:\n",
      "Fitur terbaik yang bisa digunakan 2 dengan akurasi :  0.8387096774193549\n",
      "Fitur terbaik yang digunakan (dengan normalisasi Zscore):\n",
      "['nodes', 'hormon', 'rfstime']\n",
      "Fitur terbaik yang digunakan (dengan normalisasi Minmax):\n",
      "['grade', 'rfstime']\n"
     ]
    }
   ],
   "source": [
    "from sklearn.feature_selection import SelectKBest, mutual_info_classif\n",
    "from sklearn.tree import DecisionTreeClassifier\n",
    "from sklearn.metrics import accuracy_score\n",
    "\n",
    "best_accuracy_dct_zscore = 0\n",
    "best_k_zscore = 0\n",
    "best_accuracy_dct_minmax = 0\n",
    "best_k_minmax = 0\n",
    "\n",
    "for k in range(1, fitur_train.shape[1] + 1):\n",
    "    # Buat objek SelectKBest dengan mutual_info_classif sebagai fungsi skor\n",
    "    k_best = SelectKBest(score_func=mutual_info_classif, k=k)\n",
    "\n",
    "    # Fiturkan objek SelectKBest ke data training dan testing untuk kedua normalisasi (zscore dan minmax)\n",
    "    zscore_training_terbaik = k_best.fit_transform(zscore_training, target_train)\n",
    "    zscore_testing_terbaik = k_best.transform(zscore_testing)\n",
    "    minmaxtraining_terbaik = k_best.fit_transform(minmaxtraining, target_train)\n",
    "    minmaxtesting_terbaik = k_best.transform(minmaxtesting)\n",
    "\n",
    "    # Buat dan latih model dengan normalisasi zscore\n",
    "    model_zscore = DecisionTreeClassifier()\n",
    "    model_zscore.fit(zscore_training_terbaik, target_train)\n",
    "\n",
    "    # Lakukan prediksi pada data uji dengan normalisasi zscore\n",
    "    y_pred_dt_zscore = model_zscore.predict(zscore_testing_terbaik)\n",
    "\n",
    "    # Hitung akurasi dengan normalisasi zscore\n",
    "    accuracy_dct_zscore = accuracy_score(target_test, y_pred_dt_zscore)\n",
    "    # print(k, \"fitur menghasilkan akurasi : \", accuracy_dct_zscore)\n",
    "\n",
    "    # Buat dan latih model dengan normalisasi minmax\n",
    "    model_minmax = DecisionTreeClassifier()\n",
    "    model_minmax.fit(minmaxtraining_terbaik, target_train)\n",
    "\n",
    "    # Lakukan prediksi pada data uji dengan normalisasi minmax\n",
    "    y_pred_dt_minmax = model_minmax.predict(minmaxtesting_terbaik)\n",
    "\n",
    "    # Hitung akurasi dengan normalisasi minmax\n",
    "    accuracy_dct_minmax = accuracy_score(target_test, y_pred_dt_minmax)\n",
    "    # print(k, \"fitur menghasilkan akurasi : \", accuracy_dct_minmax)\n",
    "\n",
    "    # Memeriksa apakah akurasi dengan normalisasi zscore lebih baik dari yang sebelumnya\n",
    "    if accuracy_dct_zscore > best_accuracy_dct_zscore:\n",
    "        best_accuracy_dct_zscore = accuracy_dct_zscore\n",
    "        best_k_zscore = k\n",
    "\n",
    "    # Memeriksa apakah akurasi dengan normalisasi minmax lebih baik dari yang sebelumnya\n",
    "    if accuracy_dct_minmax > best_accuracy_dct_minmax:\n",
    "        best_accuracy_dct_minmax = accuracy_dct_minmax\n",
    "        best_k_minmax = k\n",
    "\n",
    "print(\"Dengan Normalisasi Zscore:\")\n",
    "print(\"Fitur terbaik yang bisa digunakan\", best_k_zscore, \"dengan akurasi : \", best_accuracy_dct_zscore)\n",
    "\n",
    "print(\"Dengan Normalisasi Minmax:\")\n",
    "print(\"Fitur terbaik yang bisa digunakan\", best_k_minmax, \"dengan akurasi : \", best_accuracy_dct_minmax)\n",
    "\n",
    "# Ambil indeks fitur terbaik dari SelectKBest\n",
    "best_feature_indices_zscore = SelectKBest(score_func=mutual_info_classif, k=best_k_zscore).fit(zscore_training, target_train).get_support(indices=True)\n",
    "best_feature_indices_minmax = SelectKBest(score_func=mutual_info_classif, k=best_k_minmax).fit(minmaxtraining, target_train).get_support(indices=True)\n",
    "\n",
    "# Dapatkan nama fitur terbaik dari indeksnya\n",
    "best_features_zscore = [fitur.columns[i] for i in best_feature_indices_zscore]\n",
    "best_features_minmax = [fitur.columns[i] for i in best_feature_indices_minmax]\n",
    "\n",
    "\n",
    "print(\"Fitur terbaik yang digunakan (dengan normalisasi Zscore):\")\n",
    "print(best_features_zscore)\n",
    "\n",
    "print(\"Fitur terbaik yang digunakan (dengan normalisasi Minmax):\")\n",
    "print(best_features_minmax)"
   ]
  },
  {
   "cell_type": "markdown",
   "metadata": {},
   "source": [
    "### Menggunakan Support Vector Machine"
   ]
  },
  {
   "cell_type": "code",
   "execution_count": 62,
   "metadata": {},
   "outputs": [
    {
     "name": "stdout",
     "output_type": "stream",
     "text": [
      "Dengan Normalisasi Zscore:\n",
      "Fitur terbaik yang bisa digunakan 8 dengan akurasi :  0.7741935483870968\n",
      "Dengan Normalisasi Minmax:\n",
      "Fitur terbaik yang bisa digunakan 4 dengan akurasi :  0.7870967741935484\n",
      "Fitur terbaik yang digunakan (dengan normalisasi Zscore):\n",
      "['pid', 'age', 'meno', 'nodes', 'pgr', 'er', 'hormon', 'rfstime']\n",
      "Fitur terbaik yang digunakan (dengan normalisasi Minmax):\n",
      "['pid', 'nodes', 'hormon', 'rfstime']\n"
     ]
    }
   ],
   "source": [
    "from sklearn.feature_selection import SelectKBest, mutual_info_classif\n",
    "from sklearn.svm import SVC\n",
    "from sklearn.metrics import accuracy_score\n",
    "\n",
    "best_accuracy_svm_zscore = 0\n",
    "best_k_zscore = 0\n",
    "best_accuracy_svm_minmax = 0\n",
    "best_k_minmax = 0\n",
    "\n",
    "for k in range(1, fitur_train.shape[1] + 1):\n",
    "    # Buat objek SelectKBest dengan mutual_info_classif sebagai fungsi skor\n",
    "    k_best = SelectKBest(score_func=mutual_info_classif, k=k)\n",
    "\n",
    "    # Fiturkan objek SelectKBest ke data training dan testing untuk kedua normalisasi (zscore dan minmax)\n",
    "    zscore_training_terbaik = k_best.fit_transform(zscore_training, target_train)\n",
    "    zscore_testing_terbaik = k_best.transform(zscore_testing)\n",
    "    minmaxtraining_terbaik = k_best.fit_transform(minmaxtraining, target_train)\n",
    "    minmaxtesting_terbaik = k_best.transform(minmaxtesting)\n",
    "\n",
    "    # Buat dan latih model dengan normalisasi zscore\n",
    "    model_zscore = SVC()\n",
    "    model_zscore.fit(zscore_training_terbaik, target_train)\n",
    "\n",
    "    # Lakukan prediksi pada data uji dengan normalisasi zscore\n",
    "    y_pred_svm_zscore = model_zscore.predict(zscore_testing_terbaik)\n",
    "\n",
    "    # Hitung akurasi dengan normalisasi zscore\n",
    "    accuracy_svm_zscore = accuracy_score(target_test, y_pred_svm_zscore)\n",
    "    # print(k, \"fitur menghasilkan akurasi : \", accuracy_svm_zscore)\n",
    "\n",
    "    # Buat dan latih model dengan normalisasi minmax\n",
    "    model_minmax = SVC()\n",
    "    model_minmax.fit(minmaxtraining_terbaik, target_train)\n",
    "\n",
    "    # Lakukan prediksi pada data uji dengan normalisasi minmax\n",
    "    y_pred_svm_minmax = model_minmax.predict(minmaxtesting_terbaik)\n",
    "\n",
    "    # Hitung akurasi dengan normalisasi minmax\n",
    "    accuracy_svm_minmax = accuracy_score(target_test, y_pred_svm_minmax)\n",
    "    # print(k, \"fitur menghasilkan akurasi : \", accuracy_svm_minmax)\n",
    "\n",
    "    # Memeriksa apakah akurasi dengan normalisasi zscore lebih baik dari yang sebelumnya\n",
    "    if accuracy_svm_zscore > best_accuracy_svm_zscore:\n",
    "        best_accuracy_svm_zscore = accuracy_svm_zscore\n",
    "        best_k_zscore = k\n",
    "\n",
    "    # Memeriksa apakah akurasi dengan normalisasi minmax lebih baik dari yang sebelumnya\n",
    "    if accuracy_svm_minmax > best_accuracy_svm_minmax:\n",
    "        best_accuracy_svm_minmax = accuracy_svm_minmax\n",
    "        best_k_minmax = k\n",
    "\n",
    "print(\"Dengan Normalisasi Zscore:\")\n",
    "print(\"Fitur terbaik yang bisa digunakan\", best_k_zscore, \"dengan akurasi : \", best_accuracy_svm_zscore)\n",
    "\n",
    "print(\"Dengan Normalisasi Minmax:\")\n",
    "print(\"Fitur terbaik yang bisa digunakan\", best_k_minmax, \"dengan akurasi : \", best_accuracy_svm_minmax)\n",
    "\n",
    "# Ambil indeks fitur terbaik dari SelectKBest\n",
    "best_feature_indices_zscore = SelectKBest(score_func=mutual_info_classif, k=best_k_zscore).fit(zscore_training, target_train).get_support(indices=True)\n",
    "best_feature_indices_minmax = SelectKBest(score_func=mutual_info_classif, k=best_k_minmax).fit(minmaxtraining, target_train).get_support(indices=True)\n",
    "\n",
    "# Dapatkan nama fitur terbaik dari indeksnya\n",
    "best_features_zscore = [fitur.columns[i] for i in best_feature_indices_zscore]\n",
    "best_features_minmax = [fitur.columns[i] for i in best_feature_indices_minmax]\n",
    "\n",
    "\n",
    "print(\"Fitur terbaik yang digunakan (dengan normalisasi Zscore):\")\n",
    "print(best_features_zscore)\n",
    "\n",
    "print(\"Fitur terbaik yang digunakan (dengan normalisasi Minmax):\")\n",
    "print(best_features_minmax)"
   ]
  },
  {
   "cell_type": "markdown",
   "metadata": {},
   "source": [
    "### Menggunakan Logistic Regression"
   ]
  },
  {
   "cell_type": "code",
   "execution_count": 63,
   "metadata": {},
   "outputs": [
    {
     "name": "stdout",
     "output_type": "stream",
     "text": [
      "Dengan Normalisasi Zscore:\n",
      "Fitur terbaik yang bisa digunakan 4 dengan akurasi :  0.7741935483870968\n",
      "Dengan Normalisasi Minmax:\n",
      "Fitur terbaik yang bisa digunakan 5 dengan akurasi :  0.7806451612903226\n",
      "Fitur terbaik yang digunakan (dengan normalisasi Zscore):\n",
      "['pid', 'age', 'pgr', 'rfstime']\n",
      "Fitur terbaik yang digunakan (dengan normalisasi Minmax):\n",
      "['pid', 'nodes', 'pgr', 'hormon', 'rfstime']\n"
     ]
    }
   ],
   "source": [
    "from sklearn.feature_selection import SelectKBest, mutual_info_classif\n",
    "from sklearn.linear_model import LogisticRegression\n",
    "from sklearn.metrics import accuracy_score\n",
    "\n",
    "best_accuracy_lr_zscore = 0\n",
    "best_k_zscore = 0\n",
    "best_accuracy_lr_minmax = 0\n",
    "best_k_minmax = 0\n",
    "\n",
    "for k in range(1, fitur_train.shape[1] + 1):\n",
    "    # Buat objek SelectKBest dengan mutual_info_classif sebagai fungsi skor\n",
    "    k_best = SelectKBest(score_func=mutual_info_classif, k=k)\n",
    "\n",
    "    # Fiturkan objek SelectKBest ke data training dan testing untuk kedua normalisasi (zscore dan minmax)\n",
    "    zscore_training_terbaik = k_best.fit_transform(zscore_training, target_train)\n",
    "    zscore_testing_terbaik = k_best.transform(zscore_testing)\n",
    "    minmaxtraining_terbaik = k_best.fit_transform(minmaxtraining, target_train)\n",
    "    minmaxtesting_terbaik = k_best.transform(minmaxtesting)\n",
    "\n",
    "    # Buat dan latih model dengan normalisasi zscore\n",
    "    model_zscore = LogisticRegression()\n",
    "    model_zscore.fit(zscore_training_terbaik, target_train)\n",
    "\n",
    "    # Lakukan prediksi pada data uji dengan normalisasi zscore\n",
    "    y_pred_lr_zscore = model_zscore.predict(zscore_testing_terbaik)\n",
    "\n",
    "    # Hitung akurasi dengan normalisasi zscore\n",
    "    accuracy_lr_zscore = accuracy_score(target_test, y_pred_lr_zscore)\n",
    "    # print(k, \"fitur menghasilkan akurasi : \", accuracy_lr_zscore)\n",
    "\n",
    "    # Buat dan latih model dengan normalisasi minmax\n",
    "    model_minmax = LogisticRegression()\n",
    "    model_minmax.fit(minmaxtraining_terbaik, target_train)\n",
    "\n",
    "    # Lakukan prediksi pada data uji dengan normalisasi minmax\n",
    "    y_pred_lr_minmax = model_minmax.predict(minmaxtesting_terbaik)\n",
    "\n",
    "    # Hitung akurasi dengan normalisasi minmax\n",
    "    accuracy_lr_minmax = accuracy_score(target_test, y_pred_lr_minmax)\n",
    "    # print(k, \"fitur menghasilkan akurasi : \", accuracy_lr_minmax)\n",
    "\n",
    "    # Memeriksa apakah akurasi dengan normalisasi zscore lebih baik dari yang sebelumnya\n",
    "    if accuracy_lr_zscore > best_accuracy_lr_zscore:\n",
    "        best_accuracy_lr_zscore = accuracy_lr_zscore\n",
    "        best_k_zscore = k\n",
    "\n",
    "    # Memeriksa apakah akurasi dengan normalisasi minmax lebih baik dari yang sebelumnya\n",
    "    if accuracy_lr_minmax > best_accuracy_lr_minmax:\n",
    "        best_accuracy_lr_minmax = accuracy_lr_minmax\n",
    "        best_k_minmax = k\n",
    "\n",
    "print(\"Dengan Normalisasi Zscore:\")\n",
    "print(\"Fitur terbaik yang bisa digunakan\", best_k_zscore, \"dengan akurasi : \", best_accuracy_lr_zscore)\n",
    "\n",
    "print(\"Dengan Normalisasi Minmax:\")\n",
    "print(\"Fitur terbaik yang bisa digunakan\", best_k_minmax, \"dengan akurasi : \", best_accuracy_lr_minmax)\n",
    "\n",
    "# Ambil indeks fitur terbaik dari SelectKBest\n",
    "best_feature_indices_zscore = SelectKBest(score_func=mutual_info_classif, k=best_k_zscore).fit(zscore_training, target_train).get_support(indices=True)\n",
    "best_feature_indices_minmax = SelectKBest(score_func=mutual_info_classif, k=best_k_minmax).fit(minmaxtraining, target_train).get_support(indices=True)\n",
    "\n",
    "# Dapatkan nama fitur terbaik dari indeksnya\n",
    "best_features_zscore = [fitur.columns[i] for i in best_feature_indices_zscore]\n",
    "best_features_minmax = [fitur.columns[i] for i in best_feature_indices_minmax]\n",
    "\n",
    "\n",
    "print(\"Fitur terbaik yang digunakan (dengan normalisasi Zscore):\")\n",
    "print(best_features_zscore)\n",
    "\n",
    "print(\"Fitur terbaik yang digunakan (dengan normalisasi Minmax):\")\n",
    "print(best_features_minmax)"
   ]
  },
  {
   "cell_type": "markdown",
   "metadata": {},
   "source": [
    "### Akurasi Tiap Model"
   ]
  },
  {
   "cell_type": "code",
   "execution_count": 64,
   "metadata": {},
   "outputs": [
    {
     "data": {
      "image/png": "[encoded data removed]",
      "text/plain": [
       "<Figure size 1000x600 with 1 Axes>"
      ]
     },
     "metadata": {},
     "output_type": "display_data"
    }
   ],
   "source": [
    "import matplotlib.pyplot as plt\n",
    "\n",
    "# Data akurasi berdasarkan SelectKBest dan normalisasi Zscore\n",
    "accuracy_zscore = [best_accuracy_nb_zscore, best_accuracy_rf_zscore, best_accuracy_dct_zscore, best_accuracy_svm_zscore, best_accuracy_lr_zscore]\n",
    "# Data akurasi berdasarkan SelectKBest dan normalisasi MinMax\n",
    "accuracy_minmax = [best_accuracy_nb_minmax, best_accuracy_rf_minmax, best_accuracy_dct_minmax, best_accuracy_svm_zscore, best_accuracy_lr_zscore]\n",
    "# Nama model\n",
    "models = ['Naive Bayes', 'Random Forest', 'Decision Tree', 'Support Vector Machine', 'Logistic Regression']\n",
    "\n",
    "# Membuat grafik Line Chart untuk Akurasi Model Klasifikasi\n",
    "plt.figure(figsize=(10, 6))\n",
    "\n",
    "# Plot data akurasi untuk Zscore\n",
    "plt.plot(models, accuracy_zscore, label='Zscore', marker='o', color='blue')\n",
    "# Plot data akurasi untuk MinMax\n",
    "plt.plot(models, accuracy_minmax, label='MinMax', marker='s', color='green')\n",
    "\n",
    "# Konfigurasi tambahan grafik\n",
    "plt.title('Akurasi Model Klasifikasi')\n",
    "plt.xlabel('Jumlah Fitur Terbaik')\n",
    "plt.ylabel('Akurasi')\n",
    "plt.legend()\n",
    "plt.grid()\n",
    "\n",
    "# Menampilkan grafik\n",
    "plt.show()"
   ]
  },
  {
   "cell_type": "markdown",
   "metadata": {},
   "source": [
    "Dari hasil grafik di atas, saya memutuskan menggunakan Decision Tree dengan normalisasi zcorescaler."
   ]
  },
  {
   "cell_type": "markdown",
   "metadata": {},
   "source": [
    "Dipilih modelling menggunakan random forest dengan normalisasi  zcorescaler"
   ]
  },
  {
   "cell_type": "markdown",
   "metadata": {},
   "source": [
    "# --- MODELLING ---"
   ]
  },
  {
   "cell_type": "markdown",
   "metadata": {},
   "source": [
    "## Load Dataset"
   ]
  },
  {
   "cell_type": "code",
   "execution_count": 82,
   "metadata": {},
   "outputs": [],
   "source": [
    "import pandas as pd\n",
    "\n",
    "# kolom-kolom yang ingin Anda pertahankan\n",
    "kolom_pilihan = ['nodes', 'hormon', 'rfstime', 'status']\n",
    "\n",
    "# Buat dataset baru hanya dengan kolom yang dipilih\n",
    "dataset_baru = data[kolom_pilihan]\n",
    "\n",
    "# Simpan dataset baru dalam file CSV\n",
    "dataset_baru.to_csv('dataset_baru_dt.csv', index=False)  # Simpan ke file CSV tanpa menyertakan indeks"
   ]
  },
  {
   "cell_type": "code",
   "execution_count": 83,
   "metadata": {},
   "outputs": [
    {
     "data": {
      "text/html": [
       "<div>\n",
       "<style scoped>\n",
       "    .dataframe tbody tr th:only-of-type {\n",
       "        vertical-align: middle;\n",
       "    }\n",
       "\n",
       "    .dataframe tbody tr th {\n",
       "        vertical-align: top;\n",
       "    }\n",
       "\n",
       "    .dataframe thead th {\n",
       "        text-align: right;\n",
       "    }\n",
       "</style>\n",
       "<table border=\"1\" class=\"dataframe\">\n",
       "  <thead>\n",
       "    <tr style=\"text-align: right;\">\n",
       "      <th></th>\n",
       "      <th>nodes</th>\n",
       "      <th>hormon</th>\n",
       "      <th>rfstime</th>\n",
       "      <th>status</th>\n",
       "    </tr>\n",
       "  </thead>\n",
       "  <tbody>\n",
       "    <tr>\n",
       "      <th>0</th>\n",
       "      <td>2</td>\n",
       "      <td>0</td>\n",
       "      <td>1838</td>\n",
       "      <td>0</td>\n",
       "    </tr>\n",
       "    <tr>\n",
       "      <th>1</th>\n",
       "      <td>16</td>\n",
       "      <td>0</td>\n",
       "      <td>403</td>\n",
       "      <td>1</td>\n",
       "    </tr>\n",
       "    <tr>\n",
       "      <th>2</th>\n",
       "      <td>3</td>\n",
       "      <td>0</td>\n",
       "      <td>1603</td>\n",
       "      <td>0</td>\n",
       "    </tr>\n",
       "    <tr>\n",
       "      <th>3</th>\n",
       "      <td>1</td>\n",
       "      <td>0</td>\n",
       "      <td>177</td>\n",
       "      <td>0</td>\n",
       "    </tr>\n",
       "    <tr>\n",
       "      <th>4</th>\n",
       "      <td>5</td>\n",
       "      <td>1</td>\n",
       "      <td>1855</td>\n",
       "      <td>0</td>\n",
       "    </tr>\n",
       "  </tbody>\n",
       "</table>\n",
       "</div>"
      ],
      "text/plain": [
       "   nodes  hormon  rfstime  status\n",
       "0      2       0     1838       0\n",
       "1     16       0      403       1\n",
       "2      3       0     1603       0\n",
       "3      1       0      177       0\n",
       "4      5       1     1855       0"
      ]
     },
     "execution_count": 83,
     "metadata": {},
     "output_type": "execute_result"
    }
   ],
   "source": [
    "dataset_baru.head(5)"
   ]
  },
  {
   "cell_type": "markdown",
   "metadata": {},
   "source": [
    "## Split Dataset"
   ]
  },
  {
   "cell_type": "code",
   "execution_count": 84,
   "metadata": {},
   "outputs": [],
   "source": [
    "from sklearn.model_selection import train_test_split\n",
    "\n",
    "# memisahkan kolom fitur dan target\n",
    "fitur = dataset_baru.drop(columns=['status'], axis =1)\n",
    "target = dataset_baru['status']\n",
    "\n",
    "# melakukan pembagian dataset, dataset dibagi menjadi 80% data training dan 20% data testing\n",
    "fitur_train, fitur_test, target_train, target_test = train_test_split(fitur, target, test_size = 0.2, random_state=42)"
   ]
  },
  {
   "cell_type": "markdown",
   "metadata": {},
   "source": [
    "## Normalisasi Data"
   ]
  },
  {
   "cell_type": "code",
   "execution_count": 85,
   "metadata": {},
   "outputs": [],
   "source": [
    "import pickle\n",
    "from sklearn.preprocessing import StandardScaler\n",
    "\n",
    "# menentukan lokasi file pickle akan disimpan\n",
    "path = 'zcorescaler_baru.pkl'\n",
    "\n",
    "# membuat dan melatih objek Standarscaler\n",
    "zscorescaler = StandardScaler()\n",
    "zscorescaler.fit(fitur_train)\n",
    "\n",
    "# menyimpan model ke dalam file pickle\n",
    "with open(path, 'wb') as file:\n",
    "    pickle.dump(zscorescaler, file)\n",
    "\n",
    "# memanggil kembali model normalisasi minmaxscaler dari file pickle\n",
    "with open(path, 'rb') as file:\n",
    "    zscorescaler = pickle.load(file)\n",
    "\n",
    "# menerapkan normalisasi zscore pada data training\n",
    "zscoretraining = zscorescaler.transform(fitur_train)\n",
    "\n",
    "# menerapkan normalisasi zscore pada data testing\n",
    "zscoretesting = zscorescaler.transform(fitur_test)"
   ]
  },
  {
   "cell_type": "markdown",
   "metadata": {},
   "source": [
    "## Membuat model"
   ]
  },
  {
   "cell_type": "code",
   "execution_count": 86,
   "metadata": {},
   "outputs": [
    {
     "name": "stdout",
     "output_type": "stream",
     "text": [
      "Parameter terbaik: {'criterion': 'gini', 'max_depth': None, 'min_samples_leaf': 1, 'min_samples_split': 10}\n",
      "Akurasi model terbaik: 0.5797101449275363\n"
     ]
    }
   ],
   "source": [
    "from sklearn.tree import DecisionTreeClassifier\n",
    "from sklearn.model_selection import GridSearchCV\n",
    "\n",
    "# Definisi model Decision Tree\n",
    "dt = DecisionTreeClassifier()\n",
    "\n",
    "# Definisi grid parameter yang akan diuji\n",
    "param_grid = {\n",
    "    'criterion': ['gini', 'entropy'],\n",
    "    'max_depth': [None, 10, 20, 30],\n",
    "    'min_samples_split': [2, 5, 10],\n",
    "    'min_samples_leaf': [1, 2, 4]\n",
    "}\n",
    "\n",
    "# Inisialisasi GridSearchCV\n",
    "grid_search = GridSearchCV(estimator=dt, param_grid=param_grid, cv=5, n_jobs=-1)\n",
    "\n",
    "# Latih model dengan data latih dan mencari parameter terbaik\n",
    "grid_search.fit(zscoretraining, target_train)\n",
    "\n",
    "# Hasil parameter terbaik\n",
    "best_params = grid_search.best_params_\n",
    "print(\"Parameter terbaik:\", best_params)\n",
    "\n",
    "# Model dengan parameter terbaik\n",
    "best_dt = grid_search.best_estimator_\n",
    "\n",
    "# Evaluasi model terbaik pada data uji\n",
    "accuracy = best_dt.score(zscoretesting, target_test)\n",
    "print(\"Akurasi model terbaik:\", accuracy)\n"
   ]
  },
  {
   "cell_type": "markdown",
   "metadata": {},
   "source": [
    "## Simpan Model"
   ]
  },
  {
   "cell_type": "code",
   "execution_count": 87,
   "metadata": {},
   "outputs": [
    {
     "name": "stdout",
     "output_type": "stream",
     "text": [
      "Akurasi model terbaik: 0.5797101449275363\n"
     ]
    }
   ],
   "source": [
    "import pickle\n",
    "\n",
    "# Model dengan parameter terbaik\n",
    "best_dt = grid_search.best_estimator_\n",
    "\n",
    "# Simpan model Decision Tree terbaik ke dalam file pickle\n",
    "with open('best_dt_model.pkl', 'wb') as file:\n",
    "    pickle.dump(best_dt, file)\n",
    "\n",
    "# Evaluasi model terbaik pada data uji\n",
    "accuracy = best_dt.score(zscoretesting, target_test)\n",
    "print(\"Akurasi model terbaik:\", accuracy)\n"
   ]
  },
  {
   "cell_type": "markdown",
   "metadata": {},
   "source": [
    "# --- EVALUATION ---"
   ]
  },
  {
   "cell_type": "code",
   "execution_count": 89,
   "metadata": {},
   "outputs": [
    {
     "name": "stdout",
     "output_type": "stream",
     "text": [
      "Akurasi Support Vector Machine :  0.5797101449275363\n"
     ]
    }
   ],
   "source": [
    "from sklearn.metrics import accuracy_score\n",
    "\n",
    "with open('best_dt_model.pkl', 'rb') as file:\n",
    "    model_svm = pickle.load(file)\n",
    "\n",
    "model_svm.fit(zscoretraining, target_train)\n",
    "y_pred_svm = model_svm.predict(zscoretesting)\n",
    "\n",
    "# akurasi\n",
    "akurasi_svm = accuracy_score(target_test, y_pred_svm)\n",
    "print('Akurasi Support Vector Machine : ', akurasi_svm)"
   ]
  },
  {
   "cell_type": "markdown",
   "metadata": {},
   "source": [
    "# --- DEPLOYMENT ---"
   ]
  },
  {
   "cell_type": "markdown",
   "metadata": {},
   "source": [
    "code dilanjut pada file main.py untuk membangun sistem"
   ]
  }
 ],
 "metadata": {
  "kernelspec": {
   "display_name": "Python 3",
   "language": "python",
   "name": "python3"
  },
  "language_info": {
   "codemirror_mode": {
    "name": "ipython",
    "version": 3
   },
   "file_extension": ".py",
   "mimetype": "text/x-python",
   "name": "python",
   "nbconvert_exporter": "python",
   "pygments_lexer": "ipython3",
   "version": "3.10.3"
  }
 },
 "nbformat": 4,
 "nbformat_minor": 2
}
