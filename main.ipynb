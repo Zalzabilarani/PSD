{
 "cells": [
  {
   "cell_type": "markdown",
   "metadata": {},
   "source": [
    "# TUGAS KLASIFIKASI DATA PROYEK SAINS DATA - B"
   ]
  },
  {
   "cell_type": "markdown",
   "metadata": {},
   "source": [
    "Nama  : Zalzabila Rani    \n",
    "NIM   : 210411100082  \n",
    "Kelas : B  "
   ]
  },
  {
   "cell_type": "markdown",
   "metadata": {},
   "source": [
    "## --- BUSSINESS UNDERSTANDING ---"
   ]
  },
  {
   "cell_type": "markdown",
   "metadata": {},
   "source": [
    " **Tujuan** = Untuk membangun model yang dapat memprediksi hasil dan perkembangan kanker payudara pada pasien dengan node positif. Dengan menganalisis kumpulan data kasus kanker payudara, model ini akan mempelajari pola dan korelasi untuk membuat prediksi yang akurat, sehingga memungkinkan tenaga kesehatan profesional untuk mengidentifikasi pasien berisiko tinggi dan membantu dokter memilih strategi perawatan yang lebih baik."
   ]
  },
  {
   "cell_type": "markdown",
   "metadata": {},
   "source": [
    "Kanker payudara adalah penyakit di mana sel-sel di dalam payudara berkembang tidak terkendali dan membentuk massa atau benjolan yang disebut tumor. Tumor ini dapat menjadi ganas (kanker) jika sel-selnya dapat menyebar ke bagian tubuh lain. Kanker payudara bisa terjadi pada wanita dan pria, tetapi lebih umum pada wanita.\n",
    "\n",
    "Faktor risiko kanker payudara termasuk genetika, usia, jenis kelamin, dan faktor lingkungan. Pemeriksaan payudara sendiri, mamografi, dan kunjungan rutin ke dokter membantu dalam deteksi dini. Gejala kanker payudara mungkin meliputi benjolan atau perubahan bentuk payudara, perubahan pada kulit, atau keluarnya cairan dari puting.\n",
    "\n",
    "Pengobatan kanker payudara dapat melibatkan pembedahan, radioterapi, kemoterapi, dan terapi hormon, tergantung pada jenis dan stadium kanker. Deteksi dini dan perawatan yang tepat dapat meningkatkan peluang kesembuhan. Penting untuk meningkatkan kesadaran tentang kanker payudara, mendorong pemeriksaan payudara rutin, dan mendukung mereka yang mengalami penyakit ini.\n",
    "\n",
    "Kumpulan data berisi catatan pasien dari uji coba tahun 1984-1989 yang dilakukan oleh Kelompok German Breast Cancer Study Group (GBSG) terhadap 720 pasien dengan kanker payudara nodus positif.\n",
    "\n",
    "Referensi data bisa diakses [disini](https://www.kaggle.com/datasets/utkarshx27/breast-cancer-dataset-used-royston-and-altman).\n",
    "\n",
    "\n",
    "Dataset ini memiliki 686 data dengan rincian pelabelan sebagai berikut :  \n",
    "<table>\n",
    "    <tr>\n",
    "    <td>Label</td>\n",
    "    <td>Meaning</td>\n",
    "    </tr>\n",
    "    <tr>\n",
    "    <td>0</td>\n",
    "    <td>Hidup tanpa kambuh</td>\n",
    "    </tr>\n",
    "    <tr>\n",
    "    <td>1</td>\n",
    "    <td>Kambuh atau kematian(sudah meninggal)</td>\n",
    "    </tr>\n",
    "</table>"
   ]
  },
  {
   "cell_type": "markdown",
   "metadata": {},
   "source": [
    "### **Ciri - ciri yang digunakan untuk mengklasifikasi kanker payudara**"
   ]
  },
  {
   "cell_type": "markdown",
   "metadata": {},
   "source": [
    "**Untuk mendeteksi kanker payudara masyarakat German, dapat dilihat dari ciri-ciri sebagai berikut :**\n",
    "\n",
    "1. `age (age, years)`\n",
    "2. `meno (menopausal status)`\n",
    "3. `size (tumor size, mm)`\n",
    "4. `grade (tumor grade)`\n",
    "5. `nodes (number of positive lymph nodes)`\n",
    "6. `pgr (progesterone receptors, fmol/l)`\n",
    "7. `er (estrogen receptors, fmol/l)`\n",
    "8. `Hormon (hormonal therapy)`\n",
    "9. `rfstime (recurrence free survival time; days to first of recurrence, death or last follow-up`            "
   ]
  },
  {
   "cell_type": "markdown",
   "metadata": {},
   "source": [
    "**Deskripsi Fitur:**\n",
    "\n",
    "\n",
    "1. `age (age, years)`\n",
    "\n",
    "      Ini mencatat usia pasien dalam tahun. Informasi ini membantu untuk memahami distribusi usia dalam sampel.\n",
    "\n",
    "2. `meno (menopausal status)`\n",
    "\n",
    "      Ini mencatat status menopause pasien. Nilai 0 mewakili premenopause, sedangkan nilai 1 mewakili postmenopause.\n",
    "\n",
    "3. `size (tumor size, mm)`\n",
    "\n",
    "      Ukuran tumor dalam milimeter. Informasi ini membantu untuk memahami seberapa besar tumor pada pasien.\n",
    "\n",
    "4. `grade (tumor grade)`\n",
    "\n",
    "      Ini mencatat tingkat keparahan tumor. Menggambarkan seberapa \"berat\" atau \"parah\" tumor itu. Nilai yang lebih tinggi menunjukkan tumor yang lebih agresif atau lebih berbahaya.\n",
    "\n",
    "5. `nodes (number of positive lymph nodes)`\n",
    "\n",
    "      Ini mencatat jumlah nodus limfe positif pada pasien. ni memberikan informasi tentang seberapa banyak kanker menyebar ke kelenjar getah bening.\n",
    "\n",
    "6. `pgr (progesterone receptors, fmol/l)`\n",
    "\n",
    "      Menunjukkan kadar reseptor progesteron dalam darah pasien. Ini berkaitan dengan bagaimana hormon progesteron berinteraksi dengan sel-sel kanker.\n",
    "\n",
    "      \n",
    "      Progesteron adalah hormon seks yang diproduksi oleh ovarium pada wanita dan dalam jumlah kecil oleh testis pada pria. Hormon ini memainkan peran penting dalam siklus menstruasi dan kehamilan pada wanita.\n",
    "\n",
    "7. `er (estrogen receptors, fmol/l)`\n",
    "\n",
    "      Menunjukkan kadar reseptor estrogen dalam darah pasien. Ini berkaitan dengan bagaimana hormon estrogen berinteraksi dengan sel-sel kanker.\n",
    "\n",
    "      Estrogen adalah kelompok hormon steroid yang berperan penting dalam perkembangan dan fungsi sistem reproduksi pada wanita. Terdapat beberapa jenis estrogen yang diproduksi di dalam tubuh manusia, tetapi yang paling umum adalah estradiol, estron, dan estriol.\n",
    "\n",
    "      \n",
    "      Hormon steroid adalah jenis hormon yang berasal dari lipid (lemak) dan memiliki struktur kimia yang mirip dengan steroid. Hormon steroid memainkan peran penting dalam berbagai fungsi tubuh, termasuk regulasi metabolisme, perkembangan seksual, dan respons terhadap stres.\n",
    "\n",
    "8. `Hormon (hormonal therapy)`\n",
    "\n",
    "      Ini mencatat apakah pasien menjalani terapi hormonal atau tidak. Nilai 0 menunjukkan tidak, sementara nilai 1 menunjukkan ya.\n",
    "\n",
    "9. `rfstime (recurrence free survival time; days to first of recurrence, death or last follow-up)`\n",
    "\n",
    "      Ini mencatat waktu bertahan hidup bebas kekambuhan. Ini dapat diukur dalam jumlah hari dari saat rekurensi pertama, kematian, atau kunjungan tindak lanjut terakhir."
   ]
  },
  {
   "cell_type": "markdown",
   "metadata": {},
   "source": [
    "# --- DATA UNDERSTANDING ---"
   ]
  },
  {
   "cell_type": "markdown",
   "metadata": {},
   "source": [
    "Adapun hal - hal yang perlu dilakukan untuk memahami dataset ini, yakni\n",
    "1. Mendeskripsikan setiap fitur pada data\n",
    "    * tipe data\n",
    "    * deskripsi data\n",
    "2. Mengidentifikasi missing values setiap fitur atau kolom\n",
    "3. Eksplorasi data (grafikan fitur)\n",
    "4. Mengidentifikasi outlier\n",
    "5. Mengidentifikasi jumlah data (proporsi data perkelas -untuk mengetahui balancing dataset atau keseimbangan data per kelas)"
   ]
  },
  {
   "cell_type": "markdown",
   "metadata": {},
   "source": [
    "### Load Dataset"
   ]
  },
  {
   "cell_type": "code",
   "execution_count": 15,
   "metadata": {},
   "outputs": [
    {
     "data": {
      "text/html": [
       "<div>\n",
       "<style scoped>\n",
       "    .dataframe tbody tr th:only-of-type {\n",
       "        vertical-align: middle;\n",
       "    }\n",
       "\n",
       "    .dataframe tbody tr th {\n",
       "        vertical-align: top;\n",
       "    }\n",
       "\n",
       "    .dataframe thead th {\n",
       "        text-align: right;\n",
       "    }\n",
       "</style>\n",
       "<table border=\"1\" class=\"dataframe\">\n",
       "  <thead>\n",
       "    <tr style=\"text-align: right;\">\n",
       "      <th></th>\n",
       "      <th>age</th>\n",
       "      <th>meno</th>\n",
       "      <th>size</th>\n",
       "      <th>grade</th>\n",
       "      <th>nodes</th>\n",
       "      <th>pgr</th>\n",
       "      <th>er</th>\n",
       "      <th>hormon</th>\n",
       "      <th>rfstime</th>\n",
       "      <th>status</th>\n",
       "    </tr>\n",
       "  </thead>\n",
       "  <tbody>\n",
       "    <tr>\n",
       "      <th>0</th>\n",
       "      <td>49</td>\n",
       "      <td>0</td>\n",
       "      <td>18</td>\n",
       "      <td>2</td>\n",
       "      <td>2</td>\n",
       "      <td>0</td>\n",
       "      <td>0</td>\n",
       "      <td>0</td>\n",
       "      <td>1838</td>\n",
       "      <td>0</td>\n",
       "    </tr>\n",
       "    <tr>\n",
       "      <th>1</th>\n",
       "      <td>55</td>\n",
       "      <td>1</td>\n",
       "      <td>20</td>\n",
       "      <td>3</td>\n",
       "      <td>16</td>\n",
       "      <td>0</td>\n",
       "      <td>0</td>\n",
       "      <td>0</td>\n",
       "      <td>403</td>\n",
       "      <td>1</td>\n",
       "    </tr>\n",
       "    <tr>\n",
       "      <th>2</th>\n",
       "      <td>56</td>\n",
       "      <td>1</td>\n",
       "      <td>40</td>\n",
       "      <td>3</td>\n",
       "      <td>3</td>\n",
       "      <td>0</td>\n",
       "      <td>0</td>\n",
       "      <td>0</td>\n",
       "      <td>1603</td>\n",
       "      <td>0</td>\n",
       "    </tr>\n",
       "    <tr>\n",
       "      <th>3</th>\n",
       "      <td>45</td>\n",
       "      <td>0</td>\n",
       "      <td>25</td>\n",
       "      <td>3</td>\n",
       "      <td>1</td>\n",
       "      <td>0</td>\n",
       "      <td>4</td>\n",
       "      <td>0</td>\n",
       "      <td>177</td>\n",
       "      <td>0</td>\n",
       "    </tr>\n",
       "    <tr>\n",
       "      <th>4</th>\n",
       "      <td>65</td>\n",
       "      <td>1</td>\n",
       "      <td>30</td>\n",
       "      <td>2</td>\n",
       "      <td>5</td>\n",
       "      <td>0</td>\n",
       "      <td>36</td>\n",
       "      <td>1</td>\n",
       "      <td>1855</td>\n",
       "      <td>0</td>\n",
       "    </tr>\n",
       "    <tr>\n",
       "      <th>5</th>\n",
       "      <td>48</td>\n",
       "      <td>0</td>\n",
       "      <td>52</td>\n",
       "      <td>2</td>\n",
       "      <td>11</td>\n",
       "      <td>0</td>\n",
       "      <td>0</td>\n",
       "      <td>0</td>\n",
       "      <td>842</td>\n",
       "      <td>1</td>\n",
       "    </tr>\n",
       "    <tr>\n",
       "      <th>6</th>\n",
       "      <td>48</td>\n",
       "      <td>0</td>\n",
       "      <td>21</td>\n",
       "      <td>3</td>\n",
       "      <td>8</td>\n",
       "      <td>0</td>\n",
       "      <td>0</td>\n",
       "      <td>0</td>\n",
       "      <td>293</td>\n",
       "      <td>1</td>\n",
       "    </tr>\n",
       "    <tr>\n",
       "      <th>7</th>\n",
       "      <td>37</td>\n",
       "      <td>0</td>\n",
       "      <td>20</td>\n",
       "      <td>2</td>\n",
       "      <td>9</td>\n",
       "      <td>0</td>\n",
       "      <td>0</td>\n",
       "      <td>1</td>\n",
       "      <td>42</td>\n",
       "      <td>0</td>\n",
       "    </tr>\n",
       "    <tr>\n",
       "      <th>8</th>\n",
       "      <td>67</td>\n",
       "      <td>1</td>\n",
       "      <td>20</td>\n",
       "      <td>2</td>\n",
       "      <td>1</td>\n",
       "      <td>0</td>\n",
       "      <td>0</td>\n",
       "      <td>1</td>\n",
       "      <td>564</td>\n",
       "      <td>1</td>\n",
       "    </tr>\n",
       "    <tr>\n",
       "      <th>9</th>\n",
       "      <td>45</td>\n",
       "      <td>0</td>\n",
       "      <td>30</td>\n",
       "      <td>2</td>\n",
       "      <td>1</td>\n",
       "      <td>0</td>\n",
       "      <td>0</td>\n",
       "      <td>0</td>\n",
       "      <td>1093</td>\n",
       "      <td>1</td>\n",
       "    </tr>\n",
       "  </tbody>\n",
       "</table>\n",
       "</div>"
      ],
      "text/plain": [
       "   age  meno  size  grade  nodes  pgr  er  hormon  rfstime  status\n",
       "0   49     0    18      2      2    0   0       0     1838       0\n",
       "1   55     1    20      3     16    0   0       0      403       1\n",
       "2   56     1    40      3      3    0   0       0     1603       0\n",
       "3   45     0    25      3      1    0   4       0      177       0\n",
       "4   65     1    30      2      5    0  36       1     1855       0\n",
       "5   48     0    52      2     11    0   0       0      842       1\n",
       "6   48     0    21      3      8    0   0       0      293       1\n",
       "7   37     0    20      2      9    0   0       1       42       0\n",
       "8   67     1    20      2      1    0   0       1      564       1\n",
       "9   45     0    30      2      1    0   0       0     1093       1"
      ]
     },
     "execution_count": 15,
     "metadata": {},
     "output_type": "execute_result"
    }
   ],
   "source": [
    "import pandas as pd\n",
    "\n",
    "data = pd.read_csv('dataset.csv')\n",
    "data.head(10)"
   ]
  },
  {
   "cell_type": "code",
   "execution_count": 16,
   "metadata": {},
   "outputs": [
    {
     "name": "stdout",
     "output_type": "stream",
     "text": [
      "Banyaknya data :  686\n",
      "Banyaknya kolom :  10\n"
     ]
    }
   ],
   "source": [
    "# Rincian dataset (banyak data dan kolom)\n",
    "\n",
    "print(\"Banyaknya data : \", data.shape[0])\n",
    "print(\"Banyaknya kolom : \", data.shape[1])"
   ]
  },
  {
   "cell_type": "markdown",
   "metadata": {},
   "source": [
    "### **Mendeskripsikan setiap fitur**"
   ]
  },
  {
   "cell_type": "code",
   "execution_count": 17,
   "metadata": {},
   "outputs": [
    {
     "data": {
      "text/plain": [
       "Index(['age', 'meno', 'size', 'grade', 'nodes', 'pgr', 'er', 'hormon',\n",
       "       'rfstime', 'status'],\n",
       "      dtype='object')"
      ]
     },
     "execution_count": 17,
     "metadata": {},
     "output_type": "execute_result"
    }
   ],
   "source": [
    "data.columns"
   ]
  },
  {
   "cell_type": "markdown",
   "metadata": {},
   "source": [
    "### **Mengidentifikasi missing value**"
   ]
  },
  {
   "cell_type": "markdown",
   "metadata": {},
   "source": [
    "#### *Missing Value*"
   ]
  },
  {
   "cell_type": "markdown",
   "metadata": {},
   "source": [
    "Missing value atau nilai yang hilang merujuk pada keadaan di mana suatu data atau observasi tidak memiliki nilai atau informasi untuk suatu atribut atau fitur tertentu. Nilai yang hilang sering kali direpresentasikan dengan simbol tertentu, seperti `NaN` (Not a Number) dalam beberapa lingkungan pemrograman. \n",
    "\n",
    "Berikut penyebab adanya *missing value*: \n",
    "1. Ketidakhadiran Data:\n",
    "    - Observasi atau catatan tidak terdokumentasi atau tidak dicatat.\n",
    "\n",
    "2. Kesalahan Pengukuran:\n",
    "    - Kesalahan atau ketidakpastian dalam pengukuran atau pencatatan data.\n",
    "\n",
    "3. Ketidaklengkapan Pengisian Formulir:\n",
    "    - Formulir atau entri data tidak diisi secara lengkap oleh individu atau responden.\n",
    "\n",
    "4. Proses Pengumpulan Data yang Kompleks:\n",
    "    - Proses pengumpulan data yang melibatkan banyak tahap atau pihak dapat menyebabkan kehilangan data.\n",
    "\n",
    "Dampak *missing value*:\n",
    "1. Analisis Bias:\n",
    "    - Missing value dapat menyebabkan bias dalam hasil analisis statistik.\n",
    "\n",
    "2. Performa Model Machine Learning:\n",
    "    - Model machine learning dapat memberikan hasil yang tidak akurat atau bias jika data training mengandung missing value.\n",
    "\n",
    "3. Kesalahan Pengambilan Keputusan:\n",
    "    - Keputusan yang diambil berdasarkan data yang tidak lengkap dapat menjadi tidak akurat atau tidak dapat diandalkan. \n",
    "\n",
    "Penanganan *missing value*:\n",
    "1. Menghapus Data:\n",
    "    - Jika atribut tersebut memiliki banyak missing value, maka atribut tersebut perlu dihapus dari dataset. Namun jika hanya terdapat beberapa data yang missing value bisa dilakukan drop dari baris yang memiliki missing value atau mengisinya dengan rata - rata nilai pada atribut yang bersangkutan. \n",
    "\n",
    "2. Imputasi (Pengisian Nilai):\n",
    "    - Menggantikan missing value dengan nilai yang dihitung atau ditentukan berdasarkan suatu metode, seperti rata-rata atau median.\n",
    "\n",
    "3. Pemodelan Prediktif:\n",
    "    - Menggunakan model prediktif untuk memprediksi nilai yang hilang berdasarkan pola data yang ada.\n",
    "\n",
    "4. Penggunaan Default Value:\n",
    "    - Menggantikan missing value dengan nilai default yang sudah ditentukan.\n",
    "\n",
    "Contoh adanya missing value :\n",
    "\n",
    "<table>\n",
    "    <tr>\n",
    "    <td>Nama</td>\n",
    "    <td>Usia</td>\n",
    "    <td>Pendapatan</td>\n",
    "    </tr>\n",
    "    <tr>\n",
    "    <td>John</td>\n",
    "    <td>28</td>\n",
    "    <td>50000</td>\n",
    "    </tr>\n",
    "    <tr>\n",
    "    <td>Jane</td>\n",
    "    <td>35</td>\n",
    "    <td>NaN</td>\n",
    "    </tr>\n",
    "    <tr>\n",
    "    <td>Bob</td>\n",
    "    <td>NaN</td>\n",
    "    <td>75000</td>\n",
    "    </tr>\n",
    "    <tr>\n",
    "    <td>NaN</td>\n",
    "    <td>45</td>\n",
    "    <td>NaN</td>\n",
    "    </tr>\n",
    "    <tr>\n",
    "    <td>Alice</td>\n",
    "    <td>30</td>\n",
    "    <td>60000</td>\n",
    "    </tr>\n",
    "</table>  \n",
    "\n",
    "Dari tabel di atas menunjukkan dataset dengan missing value pada fitur 'Usia'. Karena fitur ini memiliki banyak nilai yang hilang (represented by `NaN`), kita perlu mengatasi keberadaan nilai yang hilang ini."
   ]
  },
  {
   "cell_type": "code",
   "execution_count": 18,
   "metadata": {},
   "outputs": [
    {
     "name": "stdout",
     "output_type": "stream",
     "text": [
      "Apakah ada nilai yang hilang dalam setiap kolom:\n",
      "age        False\n",
      "meno       False\n",
      "size       False\n",
      "grade      False\n",
      "nodes      False\n",
      "pgr        False\n",
      "er         False\n",
      "hormon     False\n",
      "rfstime    False\n",
      "status     False\n",
      "dtype: bool\n"
     ]
    }
   ],
   "source": [
    "# Menghitung apakah ada nilai yang hilang dalam setiap kolom\n",
    "missing_values = data.isna().any()\n",
    "\n",
    "# Menampilkan hasil\n",
    "print(\"Apakah ada nilai yang hilang dalam setiap kolom:\")\n",
    "print(missing_values)"
   ]
  },
  {
   "cell_type": "markdown",
   "metadata": {},
   "source": [
    "Noted : tidak ada *missing value* pada data"
   ]
  },
  {
   "cell_type": "markdown",
   "metadata": {},
   "source": [
    "#### *Duplikat Data*"
   ]
  },
  {
   "cell_type": "markdown",
   "metadata": {},
   "source": [
    "Duplikat data terjadi ketika satu baris dalam dataset memiliki nilai yang identik di semua kolomnya dengan baris lainnya. Keberadaan data yang redundan, atau berulang, dapat mengakibatkan gangguan dalam hasil analisis dan menghasilkan akurasi yang tidak akurat. Dalam konteks analisis data, penting untuk mengidentifikasi dan menangani duplikat agar hasil analisis mencerminkan keadaan sebenarnya dari dataset, dan untuk memastikan bahwa hasil yang dihasilkan adalah akurat dan dapat diandalkan.\n",
    "\n",
    "Contoh adanya duplikat data :\n",
    "\n",
    "<table>\n",
    "    <tr>\n",
    "    <td>Nama</td>\n",
    "    <td>Usia</td>\n",
    "    <td>Pendapatan</td>\n",
    "    </tr>\n",
    "    <tr>\n",
    "    <td>John</td>\n",
    "    <td>28</td>\n",
    "    <td>50000</td>\n",
    "    </tr>\n",
    "    <tr>\n",
    "    <td>Jane</td>\n",
    "    <td>35</td>\n",
    "    <td>60000</td>\n",
    "    </tr>\n",
    "    <tr>\n",
    "    <td>Bob</td>\n",
    "    <td>30</td>\n",
    "    <td>75000</td>\n",
    "    </tr>\n",
    "    <tr>\n",
    "    <td>Jane</td>\n",
    "    <td>35</td>\n",
    "    <td>60000</td>\n",
    "    </tr>\n",
    "    <tr>\n",
    "    <td>Alice</td>\n",
    "    <td>30</td>\n",
    "    <td>80000</td>\n",
    "    </tr>\n",
    "</table>  \n",
    "\n",
    "Dalam contoh di atas, baris dengan nama 'Jane' muncul dua kali dan dianggap duplikat. "
   ]
  },
  {
   "cell_type": "code",
   "execution_count": 19,
   "metadata": {},
   "outputs": [
    {
     "name": "stdout",
     "output_type": "stream",
     "text": [
      "Jumlah data yang duplikat: 0\n"
     ]
    }
   ],
   "source": [
    "jumlah_duplikat = data.duplicated().sum()\n",
    "\n",
    "# Menampilkan jumlah data yang duplikat\n",
    "print(\"Jumlah data yang duplikat:\", jumlah_duplikat)"
   ]
  },
  {
   "cell_type": "markdown",
   "metadata": {},
   "source": [
    "Noted : tidak ada duplikat data"
   ]
  },
  {
   "cell_type": "markdown",
   "metadata": {},
   "source": [
    "### **Mengidentifikasi Outlier**"
   ]
  },
  {
   "cell_type": "markdown",
   "metadata": {},
   "source": [
    "Outlier, dalam konteks data, dapat dijelaskan sebagai nilai yang jauh berbeda atau sangat ekstrem dibandingkan dengan sebagian besar nilai lain dalam dataset. Kita dapat membayangkan outlier sebagai data yang \"aneh\" atau \"tidak biasa\" yang muncul di tengah nilai-nilai yang lebih umum atau tipikal.\n",
    "\n",
    "Pertimbangkan sebuah contoh sederhana dengan data pengukuran tinggi badan dalam suatu kelas. Mayoritas siswa memiliki tinggi badan yang mirip, tetapi ada satu siswa yang memiliki tinggi badan yang sangat tinggi atau rendah secara tidak wajar dibandingkan dengan siswa lainnya. Siswa ini dapat dianggap sebagai outlier karena tinggi badannya sangat tidak umum dalam konteks kelas tersebut.\n",
    "\n",
    "Dengan kata lain, outlier adalah data yang berbeda secara signifikan dari mayoritas data lainnya, dan keberadaannya dapat mempengaruhi hasil analisis atau model yang dibangun dari dataset tersebut. Identifikasi dan penanganan outlier penting untuk memastikan hasil analisis data lebih akurat dan representatif.\n",
    "\n",
    "Contoh adanya outlier :\n",
    "\n",
    "<table>\n",
    "    <tr>\n",
    "    <td>Nama</td>\n",
    "    <td>Pendapatan</td>\n",
    "    </tr>\n",
    "    <tr>\n",
    "    <td>John</td>\n",
    "    <td>5000</td>\n",
    "    </tr>\n",
    "    <tr>\n",
    "    <td>Jane</td>\n",
    "    <td>5200</td>\n",
    "    </tr>\n",
    "    <tr>\n",
    "    <td>Bob</td>\n",
    "    <td>5100</td>\n",
    "    </tr>\n",
    "    <tr>\n",
    "    <td>Alice</td>\n",
    "    <td>5500</td>\n",
    "    </tr>\n",
    "    <tr>\n",
    "    <td>Emily</td>\n",
    "    <td>5300</td>\n",
    "    </tr>\n",
    "    <tr>\n",
    "    <td>chris</td>\n",
    "    <td>20000</td>\n",
    "    </tr>\n",
    "</table>  \n",
    "\n",
    "Pada tabel di atas, gaji Chris sangat jauh lebih tinggi dibandingkan dengan gaji karyawan lainnya. Gaji Chris dapat dianggap sebagai outlier karena nilai tersebut signifikan berbeda dari gaji mayoritas karyawan. Outlier seperti ini dapat mempengaruhi analisis statistik dan model prediksi, sehingga penting untuk mengidentifikasi dan memahami penyebabnya. Dalam konteks ini, gaji Chris mungkin merupakan kesalahan pengukuran atau mungkin ada faktor khusus yang menyebabkan gaji tersebut begitu tinggi."
   ]
  },
  {
   "cell_type": "code",
   "execution_count": 20,
   "metadata": {},
   "outputs": [
    {
     "name": "stdout",
     "output_type": "stream",
     "text": [
      "Banyaknya outlier :  40\n",
      "Sisa data :  646\n"
     ]
    }
   ],
   "source": [
    "from sklearn.neighbors import LocalOutlierFactor\n",
    "\n",
    "# Menggunakan Local Outlier Factor\n",
    "lof = LocalOutlierFactor(n_neighbors=5)\n",
    "outlier_scores = lof.fit_predict(data)\n",
    "\n",
    "outliers = data[outlier_scores == -1]\n",
    "print(\"Banyaknya outlier : \", outliers.shape[0])\n",
    "\n",
    "data_bersih = data[outlier_scores != -1]\n",
    "print(\"Sisa data : \", data_bersih.shape[0])"
   ]
  },
  {
   "cell_type": "markdown",
   "metadata": {},
   "source": [
    "Noted : data memiliki 40 outlier. Hanya terdapat 6% outlier sehingga tidak perlu ditangani."
   ]
  },
  {
   "cell_type": "markdown",
   "metadata": {},
   "source": [
    "### **Mengidentifikasi Jumlah Data**"
   ]
  },
  {
   "cell_type": "markdown",
   "metadata": {},
   "source": [
    "Dengan mengetahui proporsi data untuk masing - masing label, kita bisa mengetahui seberapa berbeda jumlah data di tiap - tiap label. Jika jumlah data antar label memiliki perbedaan yang sangat jauh maka akan mempengaruhi akurasi serta hasil klasifikasi sehingga nantinya perlu dilakukan penyeimbangan jumlah data di tiap labelnya."
   ]
  },
  {
   "cell_type": "code",
   "execution_count": 21,
   "metadata": {},
   "outputs": [
    {
     "name": "stdout",
     "output_type": "stream",
     "text": [
      "Jumlah data pada tiap target :\n",
      "0    366\n",
      "1    280\n",
      "Name: status, dtype: int64\n"
     ]
    }
   ],
   "source": [
    "dataa = data_bersih['status'].value_counts()\n",
    "\n",
    "print(\"Jumlah data pada tiap target :\")\n",
    "print(dataa)"
   ]
  },
  {
   "cell_type": "markdown",
   "metadata": {},
   "source": [
    "### **Eksplorasi Data**"
   ]
  },
  {
   "cell_type": "markdown",
   "metadata": {},
   "source": [
    "#### Visualisasi data beserta valuenya dan banyak datanya"
   ]
  },
  {
   "cell_type": "markdown",
   "metadata": {},
   "source": [
    "Visualisasi data dilakukan untuk memudahkan kita memahami data. Melalui visualisasi data pula kita akan memperoleh informasi sebaran nilai dari dataset ini"
   ]
  },
  {
   "cell_type": "code",
   "execution_count": 22,
   "metadata": {},
   "outputs": [
    {
     "data": {
      "text/plain": [
       "<function matplotlib.pyplot.show(close=None, block=None)>"
      ]
     },
     "execution_count": 22,
     "metadata": {},
     "output_type": "execute_result"
    },
    {
     "data": {
      "image/png": "[encoded data removed]",
      "text/plain": [
       "<Figure size 1400x1400 with 12 Axes>"
      ]
     },
     "metadata": {},
     "output_type": "display_data"
    }
   ],
   "source": [
    "import matplotlib.pyplot as plt\n",
    "\n",
    "data_bersih.hist(figsize=(14,14))\n",
    "plt.show"
   ]
  },
  {
   "cell_type": "markdown",
   "metadata": {},
   "source": [
    "#### Fitur beserta presentase kepentingannya"
   ]
  },
  {
   "cell_type": "markdown",
   "metadata": {},
   "source": [
    "Dengan melakukan skoring fitur, kita akan mengetahui yang mana fitur yang penting dan yang tidak. Hal ini dikarenakan tidak semua fitur dapat dijadikan ciri untuk melakukan klasifikasi. Dengan menentukan beberapa ciri terbaik akan menghasilkan akurasi yang sama atau lebih baik dibandingkan dengan menggunakan semua ciri serta menghemat waktu komputasi."
   ]
  },
  {
   "cell_type": "markdown",
   "metadata": {},
   "source": [
    "##### Hasil skoring fitur dari tiap kolom / atribut"
   ]
  },
  {
   "cell_type": "code",
   "execution_count": 23,
   "metadata": {},
   "outputs": [
    {
     "name": "stdout",
     "output_type": "stream",
     "text": [
      "Fitur 0: age, Skor: 0.013967268086709561\n",
      "Fitur 1: meno, Skor: 0.02454763859169362\n",
      "Fitur 2: size, Skor: 0.0\n",
      "Fitur 3: grade, Skor: 0.045252411046041274\n",
      "Fitur 4: nodes, Skor: 0.03969904661079671\n",
      "Fitur 5: pgr, Skor: 0.00892882145382412\n",
      "Fitur 6: er, Skor: 0.005163194801403703\n",
      "Fitur 7: hormon, Skor: 0.004574344114665951\n",
      "Fitur 8: rfstime, Skor: 0.15307373217244025\n"
     ]
    }
   ],
   "source": [
    "from sklearn.feature_selection import SelectKBest, mutual_info_classif\n",
    "from sklearn.model_selection import train_test_split\n",
    "\n",
    "# memisahkan kolom fitur dan target\n",
    "fitur = data_bersih.drop(columns=['status'], axis =1)\n",
    "target = data_bersih['status']\n",
    "\n",
    "# Buat objek SelectKBest dengan mutual_info_classif sebagai fungsi skor\n",
    "k_best = SelectKBest(score_func=mutual_info_classif, k='all')  # 'all' berarti akan mempertahankan semua fitur\n",
    "\n",
    "# Hitung skor fitur\n",
    "k_best.fit(fitur, target)\n",
    "scores = k_best.scores_\n",
    "\n",
    "# Dapatkan nama fitur dari kolom data Anda\n",
    "fitur_names = fitur.columns\n",
    "\n",
    "# Tampilkan skor fitur berserta namanya\n",
    "for i, (score, fitur_name) in enumerate(zip(scores, fitur_names)):\n",
    "    print(f\"Fitur {i}: {fitur_name}, Skor: {score}\")"
   ]
  },
  {
   "cell_type": "markdown",
   "metadata": {},
   "source": [
    "##### Grafik fitur dan nilai kepentingannya"
   ]
  },
  {
   "cell_type": "code",
   "execution_count": 24,
   "metadata": {},
   "outputs": [
    {
     "data": {
      "image/png": "[encoded data removed]",
      "text/plain": [
       "<Figure size 1800x600 with 1 Axes>"
      ]
     },
     "metadata": {},
     "output_type": "display_data"
    }
   ],
   "source": [
    "import matplotlib.pyplot as plt\n",
    "\n",
    "# Tampilkan skor fitur dalam grafik\n",
    "plt.figure(figsize=(18, 6))\n",
    "plt.bar(fitur_names, scores)\n",
    "plt.xlabel(\"Nama Fitur\")\n",
    "plt.ylabel(\"Skor Fitur\")\n",
    "plt.title(\"Skor Fitur SelectKBest\")\n",
    "plt.xticks(rotation=90)\n",
    "plt.show()"
   ]
  },
  {
   "cell_type": "markdown",
   "metadata": {},
   "source": [
    "### **Hasil Analisa Pada Data Understanding :**\n",
    "\n",
    "1. Data tidak memiliki _missing values_\n",
    "2. Tidak memiliki rerudan data\n",
    "3. Data memiliki 40 outlier\n",
    "4. Perbedaan jumlah atau proporsi data antar label sangat jauh\n",
    "5. Hasil skoring fitur masih menggunakan data kotor sehingga perlu difilter kembali "
   ]
  },
  {
   "cell_type": "markdown",
   "metadata": {},
   "source": [
    "# --- DATA PREPROCESSING ---"
   ]
  },
  {
   "cell_type": "markdown",
   "metadata": {},
   "source": [
    "Setelah memahami data, akan dilakukan tahap preprocessing untuk menangani masalah pada data yang sudah didefinisikan pada data understanding, yakni.\n",
    "\n",
    "1. Menyeimbangkan proporsi data tiap target\n",
    "\n",
    "Setelah data siap, akan dilakukan :\n",
    "1. Skoring tiap fitur kembali\n",
    "2. Normalisasi Data\n",
    "3. Skenario Percobaan Menggunakan 2 Model yakni Naive Bayes, Support Vector Machine, dan Decision Tree"
   ]
  },
  {
   "cell_type": "markdown",
   "metadata": {},
   "source": [
    "### Load Dataset"
   ]
  },
  {
   "cell_type": "code",
   "execution_count": 25,
   "metadata": {},
   "outputs": [
    {
     "data": {
      "text/html": [
       "<div>\n",
       "<style scoped>\n",
       "    .dataframe tbody tr th:only-of-type {\n",
       "        vertical-align: middle;\n",
       "    }\n",
       "\n",
       "    .dataframe tbody tr th {\n",
       "        vertical-align: top;\n",
       "    }\n",
       "\n",
       "    .dataframe thead th {\n",
       "        text-align: right;\n",
       "    }\n",
       "</style>\n",
       "<table border=\"1\" class=\"dataframe\">\n",
       "  <thead>\n",
       "    <tr style=\"text-align: right;\">\n",
       "      <th></th>\n",
       "      <th>age</th>\n",
       "      <th>meno</th>\n",
       "      <th>size</th>\n",
       "      <th>grade</th>\n",
       "      <th>nodes</th>\n",
       "      <th>pgr</th>\n",
       "      <th>er</th>\n",
       "      <th>hormon</th>\n",
       "      <th>rfstime</th>\n",
       "      <th>status</th>\n",
       "    </tr>\n",
       "  </thead>\n",
       "  <tbody>\n",
       "    <tr>\n",
       "      <th>0</th>\n",
       "      <td>49</td>\n",
       "      <td>0</td>\n",
       "      <td>18</td>\n",
       "      <td>2</td>\n",
       "      <td>2</td>\n",
       "      <td>0</td>\n",
       "      <td>0</td>\n",
       "      <td>0</td>\n",
       "      <td>1838</td>\n",
       "      <td>0</td>\n",
       "    </tr>\n",
       "    <tr>\n",
       "      <th>1</th>\n",
       "      <td>55</td>\n",
       "      <td>1</td>\n",
       "      <td>20</td>\n",
       "      <td>3</td>\n",
       "      <td>16</td>\n",
       "      <td>0</td>\n",
       "      <td>0</td>\n",
       "      <td>0</td>\n",
       "      <td>403</td>\n",
       "      <td>1</td>\n",
       "    </tr>\n",
       "    <tr>\n",
       "      <th>2</th>\n",
       "      <td>56</td>\n",
       "      <td>1</td>\n",
       "      <td>40</td>\n",
       "      <td>3</td>\n",
       "      <td>3</td>\n",
       "      <td>0</td>\n",
       "      <td>0</td>\n",
       "      <td>0</td>\n",
       "      <td>1603</td>\n",
       "      <td>0</td>\n",
       "    </tr>\n",
       "    <tr>\n",
       "      <th>3</th>\n",
       "      <td>45</td>\n",
       "      <td>0</td>\n",
       "      <td>25</td>\n",
       "      <td>3</td>\n",
       "      <td>1</td>\n",
       "      <td>0</td>\n",
       "      <td>4</td>\n",
       "      <td>0</td>\n",
       "      <td>177</td>\n",
       "      <td>0</td>\n",
       "    </tr>\n",
       "    <tr>\n",
       "      <th>4</th>\n",
       "      <td>65</td>\n",
       "      <td>1</td>\n",
       "      <td>30</td>\n",
       "      <td>2</td>\n",
       "      <td>5</td>\n",
       "      <td>0</td>\n",
       "      <td>36</td>\n",
       "      <td>1</td>\n",
       "      <td>1855</td>\n",
       "      <td>0</td>\n",
       "    </tr>\n",
       "  </tbody>\n",
       "</table>\n",
       "</div>"
      ],
      "text/plain": [
       "   age  meno  size  grade  nodes  pgr  er  hormon  rfstime  status\n",
       "0   49     0    18      2      2    0   0       0     1838       0\n",
       "1   55     1    20      3     16    0   0       0      403       1\n",
       "2   56     1    40      3      3    0   0       0     1603       0\n",
       "3   45     0    25      3      1    0   4       0      177       0\n",
       "4   65     1    30      2      5    0  36       1     1855       0"
      ]
     },
     "execution_count": 25,
     "metadata": {},
     "output_type": "execute_result"
    }
   ],
   "source": [
    "import pandas as pd\n",
    "\n",
    "data = pd.read_csv('dataset.csv')\n",
    "data.head(5)"
   ]
  },
  {
   "cell_type": "code",
   "execution_count": 26,
   "metadata": {},
   "outputs": [
    {
     "name": "stdout",
     "output_type": "stream",
     "text": [
      "Banyaknya data :  686\n",
      "Banyaknya kolom :  10\n"
     ]
    }
   ],
   "source": [
    "# Rincian dataset (banyak data dan kolom)\n",
    "\n",
    "print(\"Banyaknya data : \", data.shape[0])\n",
    "print(\"Banyaknya kolom : \", data.shape[1])"
   ]
  },
  {
   "cell_type": "markdown",
   "metadata": {},
   "source": [
    "### **Menyeimbangkan Data Tiap Target**"
   ]
  },
  {
   "cell_type": "markdown",
   "metadata": {},
   "source": [
    "#### Banyaknya data di tiap label"
   ]
  },
  {
   "cell_type": "code",
   "execution_count": 27,
   "metadata": {},
   "outputs": [
    {
     "data": {
      "text/plain": [
       "0    366\n",
       "1    280\n",
       "Name: status, dtype: int64"
      ]
     },
     "execution_count": 27,
     "metadata": {},
     "output_type": "execute_result"
    }
   ],
   "source": [
    "fitur = data_bersih.drop(columns=['status'])\n",
    "target = data_bersih['status']\n",
    "\n",
    "target.value_counts()"
   ]
  },
  {
   "cell_type": "markdown",
   "metadata": {},
   "source": [
    "##### Visualisasi banyaknya data di tiap label"
   ]
  },
  {
   "cell_type": "code",
   "execution_count": 28,
   "metadata": {},
   "outputs": [
    {
     "data": {
      "image/png": "[encoded data removed]",
      "text/plain": [
       "<Figure size 640x480 with 1 Axes>"
      ]
     },
     "metadata": {},
     "output_type": "display_data"
    }
   ],
   "source": [
    "import matplotlib.pyplot as plt\n",
    "\n",
    "value_counts = target.value_counts()\n",
    "\n",
    "plt.pie(value_counts, labels=value_counts.index, autopct='%.2f')\n",
    "plt.title('Distribusi Kelas Target')\n",
    "plt.axis('equal')\n",
    "plt.show()"
   ]
  },
  {
   "cell_type": "markdown",
   "metadata": {},
   "source": [
    "#### Penyeimbangan jumlah atau proporsi data"
   ]
  },
  {
   "cell_type": "markdown",
   "metadata": {},
   "source": [
    "Perbandingan proporsi data tiap target sangat jauh sehingga untuk menghemat waktu komputasi output antar target akan diseimbangkan menggunakan metode UnderSampling. Undersampling adalah teknik untuk mengurangi jumlah data pada kelas mayoritas sehingga jumlahnya setara dengan kelas minoritas."
   ]
  },
  {
   "cell_type": "code",
   "execution_count": 29,
   "metadata": {},
   "outputs": [
    {
     "name": "stdout",
     "output_type": "stream",
     "text": [
      "Jumlah sampel setelah diseimbangkan : \n",
      "0    280\n",
      "1    280\n",
      "Name: status, dtype: int64\n"
     ]
    }
   ],
   "source": [
    "from imblearn.under_sampling import RandomUnderSampler\n",
    "\n",
    "smote = RandomUnderSampler()\n",
    "fitur_seimbang, target_seimbang = smote.fit_resample(fitur, target)\n",
    "\n",
    "print(\"Jumlah sampel setelah diseimbangkan : \")\n",
    "print(target_seimbang.value_counts())"
   ]
  },
  {
   "cell_type": "markdown",
   "metadata": {},
   "source": [
    "simpan data yang telah siap diproses pada file csv baru"
   ]
  },
  {
   "cell_type": "code",
   "execution_count": 30,
   "metadata": {},
   "outputs": [],
   "source": [
    "import pandas as pd\n",
    "\n",
    "# Membuat DataFrame dari fitur dan target yang telah seimbang\n",
    "data_seimbang = pd.concat([fitur_seimbang, target_seimbang], axis=1)\n",
    "\n",
    "# Menyimpan DataFrame ke dalam file CSV\n",
    "data_seimbang.to_csv('data_seimbang.csv', index=False)"
   ]
  },
  {
   "cell_type": "code",
   "execution_count": 31,
   "metadata": {},
   "outputs": [
    {
     "name": "stdout",
     "output_type": "stream",
     "text": [
      "Banyaknya data :  560\n",
      "Banyaknya fitur :  9\n"
     ]
    }
   ],
   "source": [
    "fitur = data_seimbang.drop(columns=['status'])\n",
    "target = data_seimbang['status']\n",
    "\n",
    "print(\"Banyaknya data : \", fitur.shape[0])\n",
    "print(\"Banyaknya fitur : \", fitur.shape[1])"
   ]
  },
  {
   "cell_type": "markdown",
   "metadata": {},
   "source": [
    "### **Eksplorasi Data (Skoring Fitur)**"
   ]
  },
  {
   "cell_type": "code",
   "execution_count": 32,
   "metadata": {},
   "outputs": [
    {
     "name": "stdout",
     "output_type": "stream",
     "text": [
      "Fitur 0: age, Skor: 0.023769722079653555\n",
      "Fitur 1: meno, Skor: 0.0\n",
      "Fitur 2: size, Skor: 0.010455660149520263\n",
      "Fitur 3: grade, Skor: 0.002971926309707662\n",
      "Fitur 4: nodes, Skor: 0.0\n",
      "Fitur 5: pgr, Skor: 0.002634234084921916\n",
      "Fitur 6: er, Skor: 0.0\n",
      "Fitur 7: hormon, Skor: 0.008107100970603964\n",
      "Fitur 8: rfstime, Skor: 0.17050292516468168\n"
     ]
    }
   ],
   "source": [
    "from sklearn.feature_selection import SelectKBest, mutual_info_classif\n",
    "\n",
    "# Buat objek SelectKBest dengan mutual_info_classif sebagai fungsi skor\n",
    "k_best = SelectKBest(score_func=mutual_info_classif, k='all')  # 'all' berarti akan mempertahankan semua fitur\n",
    "\n",
    "# Hitung skor fitur\n",
    "k_best.fit(fitur, target)\n",
    "scores = k_best.scores_\n",
    "\n",
    "# Dapatkan nama fitur dari kolom data Anda\n",
    "fitur_names = fitur.columns\n",
    "\n",
    "# Tampilkan skor fitur berserta namanya\n",
    "for i, (score, fitur_name) in enumerate(zip(scores, fitur_names)):\n",
    "    print(f\"Fitur {i}: {fitur_name}, Skor: {score}\")"
   ]
  },
  {
   "cell_type": "code",
   "execution_count": 33,
   "metadata": {},
   "outputs": [
    {
     "data": {
      "image/png": "[encoded data removed]",
      "text/plain": [
       "<Figure size 1800x600 with 1 Axes>"
      ]
     },
     "metadata": {},
     "output_type": "display_data"
    }
   ],
   "source": [
    "import matplotlib.pyplot as plt\n",
    "\n",
    "# Tampilkan skor fitur dalam grafik\n",
    "plt.figure(figsize=(18, 6))\n",
    "plt.bar(fitur_names, scores)\n",
    "plt.xlabel(\"Nama Fitur\")\n",
    "plt.ylabel(\"Skor Fitur\")\n",
    "plt.title(\"Skor Fitur SelectKBest\")\n",
    "plt.xticks(rotation=90)\n",
    "plt.show()"
   ]
  },
  {
   "cell_type": "markdown",
   "metadata": {},
   "source": [
    "# --- MODELLING ---"
   ]
  },
  {
   "cell_type": "markdown",
   "metadata": {},
   "source": [
    "Note : Model Naive Bayes dipilih karena memiliki tingkat akurasi yang lebih baik dibandingkan model lainnya. Selengkapnya [disini](https://colab.research.google.com/drive/15W2MCpFu_CnwQwqR4zcxFmwFZwoG4Kop?usp=sharing)."
   ]
  },
  {
   "cell_type": "markdown",
   "metadata": {},
   "source": [
    "### **Konsep Naïve Bayes**"
   ]
  },
  {
   "cell_type": "markdown",
   "metadata": {},
   "source": [
    "Naive Bayes, atau kadang disebut Naïve Bayes Classifier, adalah algoritma machine learning probabilistik yang digunakan dalam berbagai macam tugas klasifikasi.\n",
    "\n",
    "berikut rumus umum Teorema Bayes yang menjadi dasar dari Naive Bayes berikut:\n",
    "\n",
    "$$ P(A|B) = \\frac{P(B|A) . P(A)}{P(B)} $$   \n",
    "\n",
    "    Keterangan :  \n",
    "* P(A|B) adalah kondisional bahwa sampel termasuk dalam suatu kategori tertentu mengingat fitur-fiturnya.\n",
    "* P(B|A) adalah probabilitas kondisional bahwa sampel memiliki fitur-fitur tertentu jika diketahui termasuk dalam kategori tertentu.\n",
    "* P(A) adalah probabilitas prior bahwa sampel termasuk dalam suatu kategori tertentu tanpa mempertimbangkan fitur-fiturnya.\n",
    "* P(B) adalah probabilitas bahwa sampel memiliki fitur-fitur tertentu, independen dari kategori.\n",
    "\n",
    "Tujuan Utama Naive Bayes:\n",
    "\n",
    "Tujuan utama Naive Bayes adalah melakukan klasifikasi, yaitu memprediksi kelas dari suatu instance atau data berdasarkan fitur-fiturnya. Model Naive Bayes digunakan untuk mengklasifikasikan data ke dalam salah satu kelas yang telah dipelajari selama fase pelatihan.\n",
    "\n",
    "Kelebihan Naive Bayes:\n",
    "\n",
    " - Cepat dan efisien, cocok untuk dataset besar.\n",
    " - Bekerja baik dengan fitur-fitur yang banyak.\n",
    "\n",
    "Kelemahan Naive Bayes:\n",
    "\n",
    " - Asumsi independensi dapat menjadi tidak realistis untuk beberapa dataset.\n",
    " - Sensitif terhadap fitur yang tidak relevan.\n",
    " - Tidak menangani baik fitur-fitur numerik kontinu."
   ]
  },
  {
   "cell_type": "markdown",
   "metadata": {},
   "source": [
    "### **Load Dataset**"
   ]
  },
  {
   "cell_type": "code",
   "execution_count": 53,
   "metadata": {},
   "outputs": [
    {
     "data": {
      "text/html": [
       "<div>\n",
       "<style scoped>\n",
       "    .dataframe tbody tr th:only-of-type {\n",
       "        vertical-align: middle;\n",
       "    }\n",
       "\n",
       "    .dataframe tbody tr th {\n",
       "        vertical-align: top;\n",
       "    }\n",
       "\n",
       "    .dataframe thead th {\n",
       "        text-align: right;\n",
       "    }\n",
       "</style>\n",
       "<table border=\"1\" class=\"dataframe\">\n",
       "  <thead>\n",
       "    <tr style=\"text-align: right;\">\n",
       "      <th></th>\n",
       "      <th>age</th>\n",
       "      <th>size</th>\n",
       "      <th>grade</th>\n",
       "      <th>nodes</th>\n",
       "      <th>pgr</th>\n",
       "      <th>hormon</th>\n",
       "      <th>rfstime</th>\n",
       "      <th>status</th>\n",
       "    </tr>\n",
       "  </thead>\n",
       "  <tbody>\n",
       "    <tr>\n",
       "      <th>0</th>\n",
       "      <td>49</td>\n",
       "      <td>18</td>\n",
       "      <td>2</td>\n",
       "      <td>2</td>\n",
       "      <td>0</td>\n",
       "      <td>0</td>\n",
       "      <td>1838</td>\n",
       "      <td>0</td>\n",
       "    </tr>\n",
       "    <tr>\n",
       "      <th>1</th>\n",
       "      <td>55</td>\n",
       "      <td>20</td>\n",
       "      <td>3</td>\n",
       "      <td>16</td>\n",
       "      <td>0</td>\n",
       "      <td>0</td>\n",
       "      <td>403</td>\n",
       "      <td>1</td>\n",
       "    </tr>\n",
       "    <tr>\n",
       "      <th>2</th>\n",
       "      <td>56</td>\n",
       "      <td>40</td>\n",
       "      <td>3</td>\n",
       "      <td>3</td>\n",
       "      <td>0</td>\n",
       "      <td>0</td>\n",
       "      <td>1603</td>\n",
       "      <td>0</td>\n",
       "    </tr>\n",
       "    <tr>\n",
       "      <th>3</th>\n",
       "      <td>45</td>\n",
       "      <td>25</td>\n",
       "      <td>3</td>\n",
       "      <td>1</td>\n",
       "      <td>0</td>\n",
       "      <td>0</td>\n",
       "      <td>177</td>\n",
       "      <td>0</td>\n",
       "    </tr>\n",
       "    <tr>\n",
       "      <th>4</th>\n",
       "      <td>65</td>\n",
       "      <td>30</td>\n",
       "      <td>2</td>\n",
       "      <td>5</td>\n",
       "      <td>0</td>\n",
       "      <td>1</td>\n",
       "      <td>1855</td>\n",
       "      <td>0</td>\n",
       "    </tr>\n",
       "  </tbody>\n",
       "</table>\n",
       "</div>"
      ],
      "text/plain": [
       "   age  size  grade  nodes  pgr  hormon  rfstime  status\n",
       "0   49    18      2      2    0       0     1838       0\n",
       "1   55    20      3     16    0       0      403       1\n",
       "2   56    40      3      3    0       0     1603       0\n",
       "3   45    25      3      1    0       0      177       0\n",
       "4   65    30      2      5    0       1     1855       0"
      ]
     },
     "execution_count": 53,
     "metadata": {},
     "output_type": "execute_result"
    }
   ],
   "source": [
    "import pandas as pd\n",
    "\n",
    "dataset = pd.read_csv('dataset_baru.csv')\n",
    "dataset.head(5)"
   ]
  },
  {
   "cell_type": "code",
   "execution_count": 55,
   "metadata": {},
   "outputs": [
    {
     "name": "stdout",
     "output_type": "stream",
     "text": [
      "Banyaknya data :  686\n",
      "Banyaknya kolom :  8\n"
     ]
    }
   ],
   "source": [
    "print(\"Banyaknya data : \", dataset.shape[0])\n",
    "print(\"Banyaknya kolom : \", dataset.shape[1])"
   ]
  },
  {
   "cell_type": "markdown",
   "metadata": {},
   "source": [
    "### **Split Dataset**"
   ]
  },
  {
   "cell_type": "code",
   "execution_count": 56,
   "metadata": {},
   "outputs": [],
   "source": [
    "from sklearn.model_selection import train_test_split\n",
    "\n",
    "# memisahkan kolom fitur dan target\n",
    "fitur = dataset.drop(columns=['status'], axis =1)\n",
    "target = dataset['status']\n",
    "\n",
    "# melakukan pembagian dataset, dataset dibagi menjadi 80% data training dan 20% data testing\n",
    "fitur_train, fitur_test, target_train, target_test = train_test_split(fitur, target, test_size = 0.2, random_state=42)"
   ]
  },
  {
   "cell_type": "code",
   "execution_count": 57,
   "metadata": {},
   "outputs": [
    {
     "name": "stdout",
     "output_type": "stream",
     "text": [
      "Banyaknya fitur atau ciri yang digunakan :  7\n",
      "Banyaknya data latih :  548\n",
      "Banyaknya data testing :  138\n"
     ]
    }
   ],
   "source": [
    "print(\"Banyaknya fitur atau ciri yang digunakan : \", fitur_train.shape[1])\n",
    "print(\"Banyaknya data latih : \", fitur_train.shape[0])\n",
    "print(\"Banyaknya data testing : \", fitur_test.shape[0])"
   ]
  },
  {
   "cell_type": "code",
   "execution_count": 58,
   "metadata": {},
   "outputs": [
    {
     "data": {
      "text/plain": [
       "0    319\n",
       "1    229\n",
       "Name: status, dtype: int64"
      ]
     },
     "execution_count": 58,
     "metadata": {},
     "output_type": "execute_result"
    }
   ],
   "source": [
    "target_train.value_counts()"
   ]
  },
  {
   "cell_type": "code",
   "execution_count": 59,
   "metadata": {},
   "outputs": [
    {
     "data": {
      "image/png": "[encoded data removed]",
      "text/plain": [
       "<Figure size 640x480 with 1 Axes>"
      ]
     },
     "metadata": {},
     "output_type": "display_data"
    }
   ],
   "source": [
    "import matplotlib.pyplot as plt\n",
    "\n",
    "value_counts = target_train.value_counts()\n",
    "\n",
    "plt.pie(value_counts, labels=value_counts.index, autopct='%.2f')\n",
    "plt.title('Perbandingan Jumlah Data Tiap Target')\n",
    "plt.axis('equal')\n",
    "plt.show()"
   ]
  },
  {
   "cell_type": "markdown",
   "metadata": {},
   "source": [
    "### **Normalisasi Data**"
   ]
  },
  {
   "cell_type": "markdown",
   "metadata": {},
   "source": [
    "Z-Score Scaler, atau disebut juga Z-Score Normalizer, adalah alat dalam pengolahan data yang digunakan untuk mengubah distribusi nilai-nilai dalam suatu dataset sehingga memiliki rata-rata nol (0) dan deviasi standar satu (1). Ini adalah teknik normalisasi yang berguna untuk menyamakan skala dari berbagai fitur atau variabel dalam dataset. \n",
    "\n",
    "Cara Kerja Z-Score Scaler:\n",
    "\n",
    "1. Hitung Rata-Rata(μ):\n",
    "\n",
    "    Hitung nilai rata-rata dari seluruh dataset atau dari setiap fitur yang akan di-normalisasi.\n",
    "\n",
    "    Gunakan rumus:\n",
    "\n",
    "    $$ \\mu = \\frac{\\sum_{i=1}^{n} x_i}{n} $$\n",
    "\n",
    "2. Hitung Deviasi Standar (σ):\n",
    "\n",
    "    Hitung nilai deviasi standar dari seluruh dataset atau dari setiap fitur yang akan di-normalisasi.\n",
    "\n",
    "    Gunakan rumus:\n",
    "\n",
    "    $$ S = \\sqrt{\\frac{\\sum_{i=1}^{n}(x_i - \\mu)^{2}}{n}} $$ \n",
    "\n",
    "    Keterangan :  \n",
    "* Xi adalah setiap nilai dalam dataset.\n",
    "* μ adalah rata-rata dari dataset.  \n",
    "* N adalah jumlah total nilai dalam dataset.\n",
    "\n",
    "3. Hitung Z-Score untuk Setiap Nilai (Z):\n",
    "\n",
    "    Gunakan rumus:\n",
    "\n",
    "    $$ Z = \\frac{X - \\mu}{\\sigma} $$\n",
    "\n",
    "    Keterangan :  \n",
    "* Z adalah Z-score.\n",
    "* X adalah nilai individual  .\n",
    "* μ adalah rata-rata (mean) dari fitur.\n",
    "* σ adalah deviasi standar dari fitur.\n",
    "\n",
    "    untuk menghitung Z-Score untuk setiap nilai (X) dalam dataset atau setiap fitur.\n",
    "\n",
    "4. Hasilnya:\n",
    "\n",
    "    Setelah proses normalisasi, nilai-nilai dalam dataset atau setiap fitur akan memiliki distribusi dengan rata-rata (μ) yang sama (0) dan deviasi standar (σ) yang sama (1).\n",
    "\n",
    "\n",
    "Contoh sederhana untuk penggunaan Z-score Scaler. Anggap kita memiliki dataset usia pasien sebagai berikut:\n",
    "\n",
    "Usia = [25, 30, 35, 40, 45]\n",
    "\n",
    "Langkah-langkah Z-core Scaling:\n",
    "\n",
    "1. Hitung Rata-Rata(μ):\n",
    "\n",
    "    $$ μ = \\frac{25+30+35+40+45}{5} = \\frac{175}{5} = 35 $$\n",
    "2. Hitung Deviasi Standar (σ):\n",
    "\n",
    "    $$ S = \\sqrt{\\frac{\\sum_{i=1}^{n}(x_i - \\mu)^{2}}{n}} $$ \n",
    "\n",
    "    $$ S = \\sqrt{\\frac{(25-35)^{2}+(30-35)^{2}+(35-35)^{2}+(40-35)^{2}+(45-35)^{2}}{5}} $$  \n",
    "\n",
    "    $$ μ = \\sqrt{\\frac{100+25+0+25+100}{5}} = \\sqrt{\\frac{250}{5}} = \\sqrt{50} ≈ 7.07 $$ \n",
    "3. Hitung Z-Score untuk Setiap Nilai (Z):\n",
    "\n",
    "    $$ Z{i} = \\frac{Xi - \\mu}{\\sigma} $$\n",
    "\n",
    "    $$ Z{1} = \\frac{24 - 35}{7.07} ≈ -1.41 $$\n",
    "\n",
    "    $$ Z{2} = \\frac{30 - 35}{7.07} ≈ -0.71 $$\n",
    "\n",
    "    $$ Z{3} = \\frac{35 - 35}{7.07} ≈ 0 $$\n",
    "\n",
    "    $$ Z{4} = \\frac{40 - 35}{7.07} ≈ 0.71 $$\n",
    "\n",
    "    $$ Z{5} = \\frac{45 - 35}{7.07} ≈ 1.41 $$\n",
    "4. Hasilnya:\n",
    "\n",
    "    Dataset yang telah di Z-score Scaling:\n",
    "\n",
    "    Z= [-1.41, -0.71, 0, 0.71, 1.41]"
   ]
  },
  {
   "cell_type": "code",
   "execution_count": 61,
   "metadata": {},
   "outputs": [],
   "source": [
    "import pickle\n",
    "from sklearn.preprocessing import StandardScaler\n",
    "\n",
    "# menentukan lokasi file pickle akan disimpan\n",
    "path = 'zscore_scaler.pkl'\n",
    "\n",
    "# membuat dan melatih objek StandardScaler\n",
    "zscore_scaler = StandardScaler()\n",
    "zscore_scaler.fit(fitur_train)\n",
    "\n",
    "# menyimpan model ke dalam file pickle\n",
    "with open(path, 'wb') as file:\n",
    "    pickle.dump(zscore_scaler, file)\n",
    "\n",
    "# memanggil kembali model normalisasi zscore dari file pickle\n",
    "with open(path, 'rb') as file:\n",
    "    zscore_scaler = pickle.load(file)\n",
    "\n",
    "# menerapkan normalisasi zscore pada data training\n",
    "zscore_training = zscore_scaler.transform(fitur_train)\n",
    "\n",
    "# menerapkan normalisasi zscore pada data testing\n",
    "zscore_testing = zscore_scaler.transform(fitur_test)"
   ]
  },
  {
   "cell_type": "markdown",
   "metadata": {},
   "source": [
    "### **Membuat model**"
   ]
  },
  {
   "cell_type": "code",
   "execution_count": 63,
   "metadata": {},
   "outputs": [
    {
     "name": "stdout",
     "output_type": "stream",
     "text": [
      "Fitting 5 folds for each of 1 candidates, totalling 5 fits\n",
      "Parameter terbaik: {}\n",
      "Akurasi model terbaik: 0.717391304347826\n"
     ]
    }
   ],
   "source": [
    "from sklearn.model_selection import GridSearchCV\n",
    "from sklearn.naive_bayes import GaussianNB\n",
    "\n",
    "# Inisialisasi model Naive Bayes\n",
    "naive_bayes = GaussianNB()\n",
    "\n",
    "# Buat objek Grid Search dengan model Naive Bayes (Gaussian) dan parameter grid\n",
    "param_grid = {}  # Tidak ada parameter yang perlu di-tune untuk Gaussian Naive Bayes\n",
    "grid_search = GridSearchCV(estimator=naive_bayes, param_grid=param_grid, cv=5, n_jobs=-1, verbose=2)\n",
    "\n",
    "# Lakukan grid search pada data latih\n",
    "grid_search.fit(zscore_training, target_train)\n",
    "\n",
    "# Melihat parameter terbaik yang ditemukan (Meskipun pada Naive Bayes tidak ada parameter yang di-tune)\n",
    "print(\"Parameter terbaik:\", grid_search.best_params_)\n",
    "\n",
    "# Evaluasi model terbaik pada data uji\n",
    "best_model = grid_search.best_estimator_\n",
    "accuracy = best_model.score(zscore_testing, target_test)\n",
    "print(\"Akurasi model terbaik:\", accuracy)\n"
   ]
  },
  {
   "cell_type": "markdown",
   "metadata": {},
   "source": [
    "### **Simpan Model**"
   ]
  },
  {
   "cell_type": "code",
   "execution_count": 64,
   "metadata": {},
   "outputs": [],
   "source": [
    "import pickle\n",
    "\n",
    "# Simpan model terbaik ke dalam file pickle\n",
    "with open('model_nb.pkl', 'wb') as file:\n",
    "    pickle.dump(best_model, file)"
   ]
  },
  {
   "cell_type": "code",
   "execution_count": 65,
   "metadata": {},
   "outputs": [
    {
     "data": {
      "text/html": [
       "<style>#sk-container-id-2 {color: black;}#sk-container-id-2 pre{padding: 0;}#sk-container-id-2 div.sk-toggleable {background-color: white;}#sk-container-id-2 label.sk-toggleable__label {cursor: pointer;display: block;width: 100%;margin-bottom: 0;padding: 0.3em;box-sizing: border-box;text-align: center;}#sk-container-id-2 label.sk-toggleable__label-arrow:before {content: \"▸\";float: left;margin-right: 0.25em;color: #696969;}#sk-container-id-2 label.sk-toggleable__label-arrow:hover:before {color: black;}#sk-container-id-2 div.sk-estimator:hover label.sk-toggleable__label-arrow:before {color: black;}#sk-container-id-2 div.sk-toggleable__content {max-height: 0;max-width: 0;overflow: hidden;text-align: left;background-color: #f0f8ff;}#sk-container-id-2 div.sk-toggleable__content pre {margin: 0.2em;color: black;border-radius: 0.25em;background-color: #f0f8ff;}#sk-container-id-2 input.sk-toggleable__control:checked~div.sk-toggleable__content {max-height: 200px;max-width: 100%;overflow: auto;}#sk-container-id-2 input.sk-toggleable__control:checked~label.sk-toggleable__label-arrow:before {content: \"▾\";}#sk-container-id-2 div.sk-estimator input.sk-toggleable__control:checked~label.sk-toggleable__label {background-color: #d4ebff;}#sk-container-id-2 div.sk-label input.sk-toggleable__control:checked~label.sk-toggleable__label {background-color: #d4ebff;}#sk-container-id-2 input.sk-hidden--visually {border: 0;clip: rect(1px 1px 1px 1px);clip: rect(1px, 1px, 1px, 1px);height: 1px;margin: -1px;overflow: hidden;padding: 0;position: absolute;width: 1px;}#sk-container-id-2 div.sk-estimator {font-family: monospace;background-color: #f0f8ff;border: 1px dotted black;border-radius: 0.25em;box-sizing: border-box;margin-bottom: 0.5em;}#sk-container-id-2 div.sk-estimator:hover {background-color: #d4ebff;}#sk-container-id-2 div.sk-parallel-item::after {content: \"\";width: 100%;border-bottom: 1px solid gray;flex-grow: 1;}#sk-container-id-2 div.sk-label:hover label.sk-toggleable__label {background-color: #d4ebff;}#sk-container-id-2 div.sk-serial::before {content: \"\";position: absolute;border-left: 1px solid gray;box-sizing: border-box;top: 0;bottom: 0;left: 50%;z-index: 0;}#sk-container-id-2 div.sk-serial {display: flex;flex-direction: column;align-items: center;background-color: white;padding-right: 0.2em;padding-left: 0.2em;position: relative;}#sk-container-id-2 div.sk-item {position: relative;z-index: 1;}#sk-container-id-2 div.sk-parallel {display: flex;align-items: stretch;justify-content: center;background-color: white;position: relative;}#sk-container-id-2 div.sk-item::before, #sk-container-id-2 div.sk-parallel-item::before {content: \"\";position: absolute;border-left: 1px solid gray;box-sizing: border-box;top: 0;bottom: 0;left: 50%;z-index: -1;}#sk-container-id-2 div.sk-parallel-item {display: flex;flex-direction: column;z-index: 1;position: relative;background-color: white;}#sk-container-id-2 div.sk-parallel-item:first-child::after {align-self: flex-end;width: 50%;}#sk-container-id-2 div.sk-parallel-item:last-child::after {align-self: flex-start;width: 50%;}#sk-container-id-2 div.sk-parallel-item:only-child::after {width: 0;}#sk-container-id-2 div.sk-dashed-wrapped {border: 1px dashed gray;margin: 0 0.4em 0.5em 0.4em;box-sizing: border-box;padding-bottom: 0.4em;background-color: white;}#sk-container-id-2 div.sk-label label {font-family: monospace;font-weight: bold;display: inline-block;line-height: 1.2em;}#sk-container-id-2 div.sk-label-container {text-align: center;}#sk-container-id-2 div.sk-container {/* jupyter's `normalize.less` sets `[hidden] { display: none; }` but bootstrap.min.css set `[hidden] { display: none !important; }` so we also need the `!important` here to be able to override the default hidden behavior on the sphinx rendered scikit-learn.org. See: https://github.com/scikit-learn/scikit-learn/issues/21755 */display: inline-block !important;position: relative;}#sk-container-id-2 div.sk-text-repr-fallback {display: none;}</style><div id=\"sk-container-id-2\" class=\"sk-top-container\"><div class=\"sk-text-repr-fallback\"><pre>GaussianNB()</pre><b>In a Jupyter environment, please rerun this cell to show the HTML representation or trust the notebook. <br />On GitHub, the HTML representation is unable to render, please try loading this page with nbviewer.org.</b></div><div class=\"sk-container\" hidden><div class=\"sk-item\"><div class=\"sk-estimator sk-toggleable\"><input class=\"sk-toggleable__control sk-hidden--visually\" id=\"sk-estimator-id-2\" type=\"checkbox\" checked><label for=\"sk-estimator-id-2\" class=\"sk-toggleable__label sk-toggleable__label-arrow\">GaussianNB</label><div class=\"sk-toggleable__content\"><pre>GaussianNB()</pre></div></div></div></div></div>"
      ],
      "text/plain": [
       "GaussianNB()"
      ]
     },
     "execution_count": 65,
     "metadata": {},
     "output_type": "execute_result"
    }
   ],
   "source": [
    "best_model"
   ]
  },
  {
   "cell_type": "markdown",
   "metadata": {},
   "source": [
    "# --- EVALUATION ---"
   ]
  },
  {
   "cell_type": "markdown",
   "metadata": {},
   "source": [
    "Tahap evaluasi merupakan tahap penilaian atas kebenaran data. Melalui tahap ini kita dapat mengetahui seberapa jauh suatu data dapat dipercaya."
   ]
  },
  {
   "cell_type": "code",
   "execution_count": 68,
   "metadata": {},
   "outputs": [],
   "source": [
    "with open('model_nb.pkl', 'rb') as file:\n",
    "    model_nb = pickle.load(file)\n",
    "\n",
    "from sklearn.metrics import accuracy_score\n",
    "\n",
    "model_nb.fit(zscore_training, target_train)\n",
    "y_pred_nb = model_nb.predict(zscore_testing)"
   ]
  },
  {
   "cell_type": "markdown",
   "metadata": {},
   "source": [
    "### **Akurasi**"
   ]
  },
  {
   "cell_type": "code",
   "execution_count": 69,
   "metadata": {},
   "outputs": [
    {
     "name": "stdout",
     "output_type": "stream",
     "text": [
      "Akurasi Menggunakan Naive Bayes :  0.717391304347826\n"
     ]
    }
   ],
   "source": [
    "akurasi_nb = accuracy_score(target_test, y_pred_nb)\n",
    "print('Akurasi Menggunakan Naive Bayes : ', akurasi_nb)"
   ]
  },
  {
   "cell_type": "markdown",
   "metadata": {},
   "source": [
    "### **Presisi dan Recall**"
   ]
  },
  {
   "cell_type": "markdown",
   "metadata": {},
   "source": [
    "* **Presisi** mengukur sejauh mana hasil positif yang diprediksi oleh model adalah benar\n",
    "* **Recall** mengukur sejauh mana model dapat mengidentifikasi dengan benar semua instance positif dalam data."
   ]
  },
  {
   "cell_type": "code",
   "execution_count": 71,
   "metadata": {},
   "outputs": [
    {
     "name": "stdout",
     "output_type": "stream",
     "text": [
      "Presisi : 0.725471085120208\n",
      "Recall : 0.7186974789915966\n"
     ]
    }
   ],
   "source": [
    "from sklearn.metrics import precision_score, recall_score\n",
    "\n",
    "# Hitung presisi\n",
    "precision = precision_score(target_test, y_pred_nb, average='macro')\n",
    "\n",
    "# Hitung recall\n",
    "recall = recall_score(target_test, y_pred_nb, average='macro')\n",
    "\n",
    "print(\"Presisi :\", precision)\n",
    "print(\"Recall :\", recall)"
   ]
  },
  {
   "cell_type": "markdown",
   "metadata": {},
   "source": [
    "### **F-1 Score**"
   ]
  },
  {
   "cell_type": "markdown",
   "metadata": {},
   "source": [
    "F1-Score adalah metrik gabungan yang mempertimbangkan presisi dan recall."
   ]
  },
  {
   "cell_type": "code",
   "execution_count": 72,
   "metadata": {},
   "outputs": [
    {
     "name": "stdout",
     "output_type": "stream",
     "text": [
      "F1 - Score : 0.725471085120208\n"
     ]
    }
   ],
   "source": [
    "from sklearn.metrics import f1_score\n",
    "\n",
    "# Hitung f1-score\n",
    "f1_score = f1_score(target_test, y_pred_nb, average='macro')\n",
    "\n",
    "print(\"F1 - Score :\", precision)"
   ]
  },
  {
   "cell_type": "markdown",
   "metadata": {},
   "source": [
    "### **Confussion Matrix**"
   ]
  },
  {
   "cell_type": "code",
   "execution_count": 73,
   "metadata": {},
   "outputs": [
    {
     "data": {
      "image/png": "[encoded data removed]",
      "text/plain": [
       "<Figure size 600x400 with 2 Axes>"
      ]
     },
     "metadata": {},
     "output_type": "display_data"
    }
   ],
   "source": [
    "import matplotlib.pyplot as plt\n",
    "from sklearn.metrics import confusion_matrix\n",
    "import seaborn as sns\n",
    "\n",
    "conf_matrix = confusion_matrix(target_test, y_pred_nb)\n",
    "\n",
    "plt.figure(figsize=(6, 4))\n",
    "sns.heatmap(conf_matrix, annot=True, cmap='Blues', fmt='g')\n",
    "plt.xlabel('Predicted labels')\n",
    "plt.ylabel('True labels')\n",
    "plt.title('Confusion Matrix')\n",
    "plt.show()"
   ]
  },
  {
   "cell_type": "markdown",
   "metadata": {},
   "source": [
    "Dari matrik di atas, diperoleh informasi sebagai berikut.\n",
    "* Orang yang hidup tanpa kambuh ada 55 data\n",
    "* Orang yang kambuh atau meninggal ada 44 data\n"
   ]
  },
  {
   "cell_type": "markdown",
   "metadata": {},
   "source": [
    "# --- DEPLOYMENT ---"
   ]
  },
  {
   "cell_type": "markdown",
   "metadata": {},
   "source": [
    "code dilanjut pada file main.py untuk membangun sistem"
   ]
  }
 ],
 "metadata": {
  "kernelspec": {
   "display_name": "Python 3",
   "language": "python",
   "name": "python3"
  },
  "language_info": {
   "codemirror_mode": {
    "name": "ipython",
    "version": 3
   },
   "file_extension": ".py",
   "mimetype": "text/x-python",
   "name": "python",
   "nbconvert_exporter": "python",
   "pygments_lexer": "ipython3",
   "version": "3.10.3"
  }
 },
 "nbformat": 4,
 "nbformat_minor": 2
}
